{
 "cells": [
  {
   "cell_type": "code",
   "execution_count": 24,
   "metadata": {},
   "outputs": [],
   "source": [
    "import numpy as np\n",
    "import cv2\n",
    "import matplotlib.pyplot as plt\n",
    "from numpy.random import randint, choice\n",
    "import os"
   ]
  },
  {
   "cell_type": "code",
   "execution_count": 25,
   "metadata": {},
   "outputs": [],
   "source": [
    "homo_t0_path = 'categorization/homo/t0/'\n",
    "homo_t20_path = 'categorization/homo/t20/'\n",
    "hetero_t0_path = 'categorization/hetero/t0/'\n",
    "hetero_t20_path = 'categorization/hetero/t20/'\n",
    "\n",
    "try:\n",
    "    os.makedirs(homo_t0_path + 'stimuli')\n",
    "    os.makedirs(homo_t0_path + 'target')\n",
    "    os.makedirs(homo_t0_path + 'gt')\n",
    "    os.makedirs(homo_t20_path + 'stimuli')\n",
    "    os.makedirs(homo_t20_path + 'target')\n",
    "    os.makedirs(homo_t20_path + 'gt')\n",
    "    os.makedirs(hetero_t0_path + 'stimuli')\n",
    "    os.makedirs(hetero_t0_path + 'target')\n",
    "    os.makedirs(hetero_t0_path + 'gt')\n",
    "    os.makedirs(hetero_t20_path + 'stimuli')\n",
    "    os.makedirs(hetero_t20_path + 'target')\n",
    "    os.makedirs(hetero_t20_path + 'gt')\n",
    "except:\n",
    "    pass"
   ]
  },
  {
   "cell_type": "code",
   "execution_count": 26,
   "metadata": {},
   "outputs": [],
   "source": [
    "deg2px = 30\n",
    "\n",
    "view_area = 11.3 #in degress\n",
    "grid_x, grid_y = 4, 4\n",
    "\n",
    "feature_size = view_area/grid_x #in degress\n",
    "\n",
    "line_height = 2 #in degress\n",
    "line_width = 0.3 #in degress\n",
    "\n",
    "target_angles = [0, -20]\n",
    "distractor_angles = [-80, -60, -40, 20, 40, 60, 80]\n",
    "\n",
    "num_items = [1, 4, 8, 12]\n",
    "num_stimuli_per_case = 30\n",
    "\n",
    "gt_mask = []\n",
    "\n",
    "for i in range(grid_x*grid_y):\n",
    "    pos_y = int(i/grid_x)*int(feature_size*deg2px)\n",
    "    pos_x = (i%grid_y)*int(feature_size*deg2px)\n",
    "    gt_img = np.uint8(np.zeros((int(view_area*deg2px), int(view_area*deg2px))))\n",
    "    gt_img[pos_y:pos_y+int(feature_size*deg2px), pos_x:pos_x+int(feature_size*deg2px)] = 255\n",
    "    \n",
    "    gt_mask.append(gt_img)\n",
    "    \n",
    "gt_mask = np.asarray(gt_mask)\n",
    "np.save('categorization/gt_mask.npy', gt_mask)"
   ]
  },
  {
   "cell_type": "code",
   "execution_count": 27,
   "metadata": {},
   "outputs": [],
   "source": [
    "def gen_stimuli(num_item, dis_stim, tar_stim):\n",
    "    obj_size = (line_height+line_width)\n",
    "    pos_err = int((feature_size-obj_size)*deg2px)\n",
    "    stim_img = np.uint8(255*np.ones((int(view_area*deg2px), int(view_area*deg2px))))\n",
    "    tar_img = np.uint8(255*np.ones((int(obj_size*deg2px), int(obj_size*deg2px))))\n",
    "    gt_img = np.uint8(np.zeros((int(view_area*deg2px), int(view_area*deg2px))))\n",
    "    \n",
    "    idxs = choice(grid_x*grid_y, num_item, replace=False)\n",
    "    tar_idx_pos = randint(num_item)\n",
    "    \n",
    "    tar_ids = np.zeros((num_item-1, ))\n",
    "    if num_item > len(dis_stim) + 1:\n",
    "        tar_ids[:len(dis_stim)] = choice(len(dis_stim), len(dis_stim), replace=False)\n",
    "        tar_ids[len(dis_stim):] = choice(len(dis_stim), num_item-1-len(dis_stim), replace=False)\n",
    "    else:\n",
    "        tar_ids = choice(len(dis_stim), num_item, replace=False)\n",
    "        \n",
    "    tar_ids = tar_ids[choice(len(tar_ids), len(tar_ids), replace=False)]\n",
    "    \n",
    "    j = 0\n",
    "    for i in range(num_item):\n",
    "        pos_y = int(idxs[i]/grid_x)*int(feature_size*deg2px) + randint(pos_err)\n",
    "        pos_x = (idxs[i]%grid_y)*int(feature_size*deg2px) + randint(pos_err)\n",
    "        \n",
    "        gt_pos_y = int(idxs[i]/grid_x)*int(feature_size*deg2px)\n",
    "        gt_pos_x = (idxs[i]%grid_y)*int(feature_size*deg2px)\n",
    "        \n",
    "        if idxs[i] == idxs[tar_idx_pos]:\n",
    "            tar_img = np.copy(tar_stim)\n",
    "            stim_img[pos_y:pos_y+tar_img.shape[0], pos_x:pos_x+tar_img.shape[1]] = tar_img\n",
    "            gt_img[gt_pos_y:gt_pos_y+int(feature_size*deg2px), gt_pos_x:gt_pos_x+int(feature_size*deg2px)] = 255\n",
    "        else:\n",
    "            temp = dis_stim[int(tar_ids[j])]\n",
    "            stim_img[pos_y:pos_y+temp.shape[0], pos_x:pos_x+temp.shape[1]] = temp\n",
    "            j+=1\n",
    "                \n",
    "    return stim_img, tar_img, gt_img"
   ]
  },
  {
   "cell_type": "code",
   "execution_count": 28,
   "metadata": {},
   "outputs": [],
   "source": [
    "temp = np.uint8(np.zeros((int((line_height+line_width)*deg2px), int((line_width+line_height)*deg2px))))\n",
    "temp[int((line_width)*deg2px/2):int((2*line_height+line_width)*deg2px/2), int((line_height)*deg2px/2):int((line_height+2*line_width)*deg2px/2)] = 255\n",
    "\n",
    "targets = []\n",
    "for angle in target_angles:\n",
    "    M = cv2.getRotationMatrix2D((int((line_height+line_width)*deg2px)/2,int((line_height+line_width)*deg2px)/2),angle,1)\n",
    "    dst = cv2.warpAffine(temp,M,(int((line_height+line_width)*deg2px),int((line_height+line_width)*deg2px)))\n",
    "    dst = 255 - dst\n",
    "    targets.append(dst)\n",
    "    \n",
    "distractors = []\n",
    "for angle in distractor_angles:\n",
    "    M = cv2.getRotationMatrix2D((int((line_height+line_width)*deg2px)/2,int((line_height+line_width)*deg2px)/2),angle,1)\n",
    "    dst = cv2.warpAffine(temp,M,(int((line_height+line_width)*deg2px),int((line_height+line_width)*deg2px)))\n",
    "    dst = 255 - dst\n",
    "    distractors.append(dst)"
   ]
  },
  {
   "cell_type": "code",
   "execution_count": 29,
   "metadata": {},
   "outputs": [
    {
     "data": {
      "image/png": "[encoded data removed]",
      "text/plain": [
       "<Figure size 432x288 with 1 Axes>"
      ]
     },
     "metadata": {
      "needs_background": "light"
     },
     "output_type": "display_data"
    },
    {
     "data": {
      "image/png": "[encoded data removed]",
      "text/plain": [
       "<Figure size 432x288 with 1 Axes>"
      ]
     },
     "metadata": {
      "needs_background": "light"
     },
     "output_type": "display_data"
    },
    {
     "data": {
      "image/png": "[encoded data removed]",
      "text/plain": [
       "<Figure size 432x288 with 1 Axes>"
      ]
     },
     "metadata": {
      "needs_background": "light"
     },
     "output_type": "display_data"
    },
    {
     "data": {
      "image/png": "[encoded data removed]",
      "text/plain": [
       "<Figure size 432x288 with 1 Axes>"
      ]
     },
     "metadata": {
      "needs_background": "light"
     },
     "output_type": "display_data"
    },
    {
     "data": {
      "image/png": "[encoded data removed]",
      "text/plain": [
       "<Figure size 432x288 with 1 Axes>"
      ]
     },
     "metadata": {
      "needs_background": "light"
     },
     "output_type": "display_data"
    },
    {
     "data": {
      "image/png": "[encoded data removed]",
      "text/plain": [
       "<Figure size 432x288 with 1 Axes>"
      ]
     },
     "metadata": {
      "needs_background": "light"
     },
     "output_type": "display_data"
    },
    {
     "data": {
      "image/png": "[encoded data removed]",
      "text/plain": [
       "<Figure size 432x288 with 1 Axes>"
      ]
     },
     "metadata": {
      "needs_background": "light"
     },
     "output_type": "display_data"
    },
    {
     "data": {
      "image/png": "[encoded data removed]",
      "text/plain": [
       "<Figure size 432x288 with 1 Axes>"
      ]
     },
     "metadata": {
      "needs_background": "light"
     },
     "output_type": "display_data"
    },
    {
     "data": {
      "image/png": "[encoded data removed]",
      "text/plain": [
       "<Figure size 432x288 with 1 Axes>"
      ]
     },
     "metadata": {
      "needs_background": "light"
     },
     "output_type": "display_data"
    }
   ],
   "source": [
    "i = 0\n",
    "for img in targets+distractors:\n",
    "    plt.figure(i)\n",
    "    plt.imshow(img, cmap='gray')\n",
    "    i += 1"
   ]
  },
  {
   "cell_type": "code",
   "execution_count": 30,
   "metadata": {},
   "outputs": [],
   "source": [
    "# homogeneous distractor\n",
    "for i in range(len(num_items)):\n",
    "    for n in range(1, num_stimuli_per_case+1):\n",
    "        stim_img, tar_img, gt_img = gen_stimuli(num_items[i], 8*[targets[1]], targets[0])\n",
    "            \n",
    "        file_name = str(i*num_stimuli_per_case + n) + \".jpg\"\n",
    "        cv2.imwrite(homo_t0_path + 'stimuli/' + file_name, stim_img)\n",
    "        cv2.imwrite(homo_t0_path + \"target/\" + file_name, tar_img)\n",
    "        cv2.imwrite(homo_t0_path + \"gt/\" + file_name, gt_img)\n",
    "        \n",
    "for i in range(len(num_items)):\n",
    "    for n in range(1, num_stimuli_per_case+1):\n",
    "        stim_img, tar_img, gt_img = gen_stimuli(num_items[i], 8*[targets[0]], targets[1])\n",
    "            \n",
    "        file_name = str(i*num_stimuli_per_case + n) + \".jpg\"\n",
    "        cv2.imwrite(homo_t20_path + 'stimuli/' + file_name, stim_img)\n",
    "        cv2.imwrite(homo_t20_path + \"target/\" + file_name, tar_img)\n",
    "        cv2.imwrite(homo_t20_path + \"gt/\" + file_name, gt_img)\n",
    "\n",
    "# heterogeneous distractor\n",
    "for i in range(len(num_items)):\n",
    "    for n in range(1, num_stimuli_per_case+1):\n",
    "        stim_img, tar_img, gt_img = gen_stimuli(num_items[i], distractors+[targets[1]], targets[0])\n",
    "            \n",
    "        file_name = str(i*num_stimuli_per_case + n) + \".jpg\"\n",
    "        cv2.imwrite(hetero_t0_path + 'stimuli/' + file_name, stim_img)\n",
    "        cv2.imwrite(hetero_t0_path + \"target/\" + file_name, tar_img)\n",
    "        cv2.imwrite(hetero_t0_path + \"gt/\" + file_name, gt_img)\n",
    "        \n",
    "for i in range(len(num_items)):\n",
    "    for n in range(1, num_stimuli_per_case+1):\n",
    "        stim_img, tar_img, gt_img = gen_stimuli(num_items[i], distractors+[targets[0]], targets[1])\n",
    "            \n",
    "        file_name = str(i*num_stimuli_per_case + n) + \".jpg\"\n",
    "        cv2.imwrite(hetero_t20_path + 'stimuli/' + file_name, stim_img)\n",
    "        cv2.imwrite(hetero_t20_path + \"target/\" + file_name, tar_img)\n",
    "        cv2.imwrite(hetero_t20_path + \"gt/\" + file_name, gt_img)"
   ]
  },
  {
   "cell_type": "code",
   "execution_count": null,
   "metadata": {},
   "outputs": [],
   "source": []
  }
 ],
 "metadata": {
  "kernelspec": {
   "display_name": "Python 3",
   "language": "python",
   "name": "python3"
  },
  "language_info": {
   "codemirror_mode": {
    "name": "ipython",
    "version": 3
   },
   "file_extension": ".py",
   "mimetype": "text/x-python",
   "name": "python",
   "nbconvert_exporter": "python",
   "pygments_lexer": "ipython3",
   "version": "3.7.6"
  }
 },
 "nbformat": 4,
 "nbformat_minor": 4
}
