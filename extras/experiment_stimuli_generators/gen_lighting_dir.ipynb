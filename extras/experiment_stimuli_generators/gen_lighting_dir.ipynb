{
 "cells": [
  {
   "cell_type": "code",
   "execution_count": 1,
   "metadata": {},
   "outputs": [],
   "source": [
    "import numpy as np\n",
    "import cv2\n",
    "import matplotlib.pyplot as plt\n",
    "from numpy.random import randint, choice\n",
    "import os\n",
    "from skimage.draw import circle"
   ]
  },
  {
   "cell_type": "code",
   "execution_count": 2,
   "metadata": {},
   "outputs": [],
   "source": [
    "top_down_path = 'lightning_dir/top_down/'\n",
    "left_right_path = 'lightning_dir/left_right/'\n",
    "\n",
    "try:\n",
    "    os.makedirs(top_down_path + 'stimuli')\n",
    "    os.makedirs(top_down_path + 'target')\n",
    "    os.makedirs(top_down_path + 'gt')\n",
    "    \n",
    "    os.makedirs(left_right_path + 'stimuli')\n",
    "    os.makedirs(left_right_path + 'target')\n",
    "    os.makedirs(left_right_path + 'gt')\n",
    "except:\n",
    "    pass"
   ]
  },
  {
   "cell_type": "code",
   "execution_count": 1,
   "metadata": {},
   "outputs": [
    {
     "data": {
      "text/plain": [
       "1.0666666666666667"
      ]
     },
     "execution_count": 1,
     "metadata": {},
     "output_type": "execute_result"
    }
   ],
   "source": [
    "32/30"
   ]
  },
  {
   "cell_type": "code",
   "execution_count": 3,
   "metadata": {},
   "outputs": [],
   "source": [
    "deg2px = 30\n",
    "\n",
    "view_area = 6.6 #in degress\n",
    "grid_x, grid_y = 4, 4\n",
    "\n",
    "feature_size = view_area/grid_x #in degress\n",
    "obj_size = 1.04 #in degress\n",
    "back_int = 27\n",
    "obj_int = [*range(0, 255+1, 17)]\n",
    "int_lvl = 15\n",
    "    \n",
    "num_items = [1, 6, 12]\n",
    "num_stimuli_per_case = 30\n",
    "\n",
    "gt_mask = []\n",
    "\n",
    "for i in range(grid_x*grid_y):\n",
    "    pos_y = int(i/grid_x)*int(feature_size*deg2px)\n",
    "    pos_x = (i%grid_y)*int(feature_size*deg2px)\n",
    "    gt_img = np.uint8(np.zeros((int(view_area*deg2px), int(view_area*deg2px))))\n",
    "    gt_img[pos_y:pos_y+int(feature_size*deg2px), pos_x:pos_x+int(feature_size*deg2px)] = 255\n",
    "    gt_mask.append(gt_img)\n",
    "    \n",
    "gt_mask = np.asarray(gt_mask)\n",
    "np.save('lightning_dir/gt_mask.npy', gt_mask)"
   ]
  },
  {
   "cell_type": "code",
   "execution_count": 5,
   "metadata": {},
   "outputs": [],
   "source": [
    "def gen_stimuli(num_item, tar_img, dis_img):\n",
    "    pos_err = int((feature_size-obj_size)*deg2px)\n",
    "    \n",
    "    stim_img = np.uint8(back_int*np.ones((int(view_area*deg2px), int(view_area*deg2px))))\n",
    "    gt_img = np.uint8(0*np.ones((int(view_area*deg2px), int(view_area*deg2px))))\n",
    "    \n",
    "    idxs = choice(grid_x*grid_y, num_item, replace=False)\n",
    "    tar_idx_pos = randint(num_item) \n",
    "\n",
    "    for i in range(num_item):\n",
    "        pos_y = int(idxs[i]/grid_x)*int(feature_size*deg2px) + randint(pos_err)\n",
    "        pos_x = (idxs[i]%grid_y)*int(feature_size*deg2px) + randint(pos_err)\n",
    "        \n",
    "        if idxs[i] == idxs[tar_idx_pos]:\n",
    "            stim_img[pos_y:pos_y+tar_img.shape[0], pos_x:pos_x+tar_img.shape[1]] = np.copy(tar_img)\n",
    "            gt_img[pos_y:pos_y+int(feature_size*deg2px), pos_x:pos_x+int(feature_size*deg2px)] = 255\n",
    "        else:\n",
    "            stim_img[pos_y:pos_y+temp.shape[0], pos_x:pos_x+temp.shape[1]] = np.copy(dis_img)\n",
    "                \n",
    "    return stim_img, tar_img, gt_img"
   ]
  },
  {
   "cell_type": "code",
   "execution_count": 6,
   "metadata": {},
   "outputs": [],
   "source": [
    "temp = np.uint8(back_int*np.ones((int((obj_size)*deg2px), int((obj_size)*deg2px))))\n",
    "temp2 = np.uint8(np.zeros((int((obj_size)*deg2px), int((obj_size)*deg2px))))\n",
    "\n",
    "for i in range(0, int((obj_size)*deg2px), int((obj_size)*deg2px/int_lvl)):\n",
    "    temp2[i:, :] = obj_int[int(i/int((obj_size)*deg2px/int_lvl))]\n",
    "rr, cc = circle(int((obj_size)*deg2px/2), int((obj_size)*deg2px/2), int((obj_size)*deg2px/2))\n",
    "temp[rr, cc] = temp2[rr, cc]\n",
    "\n",
    "target = []\n",
    "distractor = []\n",
    "\n",
    "distractor.append(temp)\n",
    "target.append(cv2.flip(temp, 0))\n",
    "distractor.append(temp.T)\n",
    "target.append(cv2.flip(temp.T, 1))"
   ]
  },
  {
   "cell_type": "code",
   "execution_count": 7,
   "metadata": {},
   "outputs": [
    {
     "data": {
      "image/png": "[encoded data removed]",
      "text/plain": [
       "<Figure size 432x288 with 1 Axes>"
      ]
     },
     "metadata": {
      "needs_background": "light"
     },
     "output_type": "display_data"
    },
    {
     "data": {
      "image/png": "[encoded data removed]",
      "text/plain": [
       "<Figure size 432x288 with 1 Axes>"
      ]
     },
     "metadata": {
      "needs_background": "light"
     },
     "output_type": "display_data"
    },
    {
     "data": {
      "image/png": "[encoded data removed]",
      "text/plain": [
       "<Figure size 432x288 with 1 Axes>"
      ]
     },
     "metadata": {
      "needs_background": "light"
     },
     "output_type": "display_data"
    },
    {
     "data": {
      "image/png": "[encoded data removed]",
      "text/plain": [
       "<Figure size 432x288 with 1 Axes>"
      ]
     },
     "metadata": {
      "needs_background": "light"
     },
     "output_type": "display_data"
    }
   ],
   "source": [
    "i = 0\n",
    "for img in target+distractor:\n",
    "    plt.figure(i)\n",
    "    plt.imshow(img, cmap=\"gray\")\n",
    "    i += 1"
   ]
  },
  {
   "cell_type": "code",
   "execution_count": 8,
   "metadata": {},
   "outputs": [],
   "source": [
    "# top_down\n",
    "for i in range(len(num_items)):\n",
    "    for n in range(1, num_stimuli_per_case+1):\n",
    "        stim_img, tar_img, gt_img = gen_stimuli(num_items[i], target[0], distractor[0])\n",
    "            \n",
    "        file_name = str(i*num_stimuli_per_case + n) + \".jpg\"\n",
    "        cv2.imwrite(top_down_path + 'stimuli/' + file_name, stim_img)\n",
    "        cv2.imwrite(top_down_path + \"target/\" + file_name, tar_img)\n",
    "        cv2.imwrite(top_down_path + \"gt/\" + file_name, gt_img)\n",
    "\n",
    "# left_right\n",
    "for i in range(len(num_items)):\n",
    "    for n in range(1, num_stimuli_per_case+1):\n",
    "        stim_img, tar_img, gt_img = gen_stimuli(num_items[i], target[1], distractor[1])\n",
    "            \n",
    "        file_name = str(i*num_stimuli_per_case + n) + \".jpg\"\n",
    "        cv2.imwrite(left_right_path + 'stimuli/' + file_name, stim_img)\n",
    "        cv2.imwrite(left_right_path + \"target/\" + file_name, tar_img)\n",
    "        cv2.imwrite(left_right_path + \"gt/\" + file_name, gt_img)"
   ]
  },
  {
   "cell_type": "code",
   "execution_count": null,
   "metadata": {},
   "outputs": [],
   "source": []
  }
 ],
 "metadata": {
  "kernelspec": {
   "display_name": "Python 3",
   "language": "python",
   "name": "python3"
  },
  "language_info": {
   "codemirror_mode": {
    "name": "ipython",
    "version": 3
   },
   "file_extension": ".py",
   "mimetype": "text/x-python",
   "name": "python",
   "nbconvert_exporter": "python",
   "pygments_lexer": "ipython3",
   "version": "3.7.6"
  }
 },
 "nbformat": 4,
 "nbformat_minor": 4
}
