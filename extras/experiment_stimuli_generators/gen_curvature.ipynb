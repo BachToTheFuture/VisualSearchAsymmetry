{
 "cells": [
  {
   "cell_type": "code",
   "execution_count": 1,
   "metadata": {},
   "outputs": [],
   "source": [
    "import numpy as np\n",
    "import cv2\n",
    "import matplotlib.pyplot as plt\n",
    "from numpy.random import randint, choice\n",
    "import os"
   ]
  },
  {
   "cell_type": "code",
   "execution_count": 2,
   "metadata": {},
   "outputs": [],
   "source": [
    "try:\n",
    "    os.makedirs(\"curvature/curve_in_lines/stimuli/\", exist_ok = True)\n",
    "    os.makedirs(\"curvature/curve_in_lines/target/\", exist_ok = True)\n",
    "    os.makedirs(\"curvature/curve_in_lines/gt/\", exist_ok = True)\n",
    "    os.makedirs(\"curvature/line_in_curves/stimuli/\", exist_ok = True)\n",
    "    os.makedirs(\"curvature/line_in_curves/target/\", exist_ok = True)\n",
    "    os.makedirs(\"curvature/line_in_curves/gt/\", exist_ok = True)\n",
    "except:\n",
    "    pass"
   ]
  },
  {
   "cell_type": "code",
   "execution_count": 7,
   "metadata": {},
   "outputs": [],
   "source": [
    "def gen_stimuli(num_item, dis_stim, tar_stim):\n",
    "#     obj_size = feature_size\n",
    "    pos_err = int((feature_size-obj_size)*deg2px)\n",
    "#     print(pos_err)\n",
    "    \n",
    "    stim_img = np.uint8(0*np.ones((int(view_area*deg2px), int(view_area*deg2px))))\n",
    "    tar_img = np.uint8(0*np.ones((int(obj_size*deg2px), int(obj_size*deg2px))))\n",
    "    gt_img = np.uint8(0*np.ones((int(view_area*deg2px), int(view_area*deg2px))))\n",
    "    \n",
    "    idxs = choice(grid_x*grid_y, num_item, replace=False)\n",
    "    tar_idx_pos = randint(num_item)\n",
    "    \n",
    "    si = 0\n",
    "\n",
    "    for i in range(num_item):\n",
    "        pos_y = int(idxs[i]/grid_x)*int(feature_size*deg2px) + randint(pos_err)\n",
    "        pos_x = (idxs[i]%grid_y)*int(feature_size*deg2px) + randint(pos_err)\n",
    "        \n",
    "        gt_pos_y = int(idxs[i]/grid_x)*int(feature_size*deg2px)\n",
    "        gt_pos_x = (idxs[i]%grid_y)*int(feature_size*deg2px) \n",
    "        \n",
    "        if idxs[i] == idxs[tar_idx_pos]:\n",
    "            tar_img = tar_stim[si%len(tar_stim)]\n",
    "            stim_img[pos_y:pos_y+tar_img.shape[0], pos_x:pos_x+tar_img.shape[1]] = tar_img\n",
    "            gt_img[gt_pos_y:gt_pos_y+int(feature_size*deg2px), gt_pos_x:gt_pos_x+int(feature_size*deg2px)] = 255\n",
    "        else:\n",
    "            temp = dis_stim[si%len(tar_stim)]\n",
    "            stim_img[pos_y:pos_y+temp.shape[0], pos_x:pos_x+temp.shape[1]] = temp\n",
    "            \n",
    "        si += 1\n",
    "                \n",
    "    return stim_img, tar_img, gt_img\n",
    "\n",
    "deg2px = 30\n",
    "\n",
    "view_area = 11.3 #in degress\n",
    "grid_x, grid_y = 6, 6\n",
    "\n",
    "feature_size = view_area/grid_x #in degress\n",
    "\n",
    "obj_size = 1.6\n",
    "\n",
    "curve_weight = (1/6) #in degress\n",
    "curve_radius = 1 #in degress\n",
    "curve_seg = 1.3 #in degress\n",
    "\n",
    "line_height = (1/6 + 1/30) #in degress\n",
    "line_width = 1.2 #in degress\n",
    "\n",
    "num_items = [8, 16, 32]\n",
    "num_stimuli_per_case = 30\n",
    "\n",
    "gt_mask = []\n",
    "\n",
    "for i in range(grid_x*grid_y):\n",
    "    pos_y = int(i/grid_x)*int(feature_size*deg2px)\n",
    "    pos_x = (i%grid_y)*int(feature_size*deg2px)\n",
    "    gt_img = np.uint8(np.zeros((int(view_area*deg2px), int(view_area*deg2px))))\n",
    "    gt_img[pos_y:pos_y+int(feature_size*deg2px), pos_x:pos_x+int(feature_size*deg2px)] = 255\n",
    "    \n",
    "    gt_mask.append(gt_img)\n",
    "    \n",
    "gt_mask = np.asarray(gt_mask)\n",
    "np.save('curvature/gt_mask.npy', gt_mask)"
   ]
  },
  {
   "cell_type": "code",
   "execution_count": 8,
   "metadata": {},
   "outputs": [],
   "source": [
    "temp = np.uint8(np.zeros((int(obj_size*deg2px), int(obj_size*deg2px))))\n",
    "temp = cv2.ellipse(temp, (int(obj_size*deg2px/2), int((obj_size-(curve_radius*np.cos(curve_seg/2) + curve_radius))*deg2px/2)), (int(curve_radius*deg2px), int(curve_radius*deg2px)), 0, int((1/4 - curve_seg/(4*np.pi))*360), int((1/4 + curve_seg/(4*np.pi))*360), 255, int(curve_weight*deg2px)) \n",
    "\n",
    "curve = []\n",
    "for angle in [-45, -90, -135, 180]:\n",
    "    M = cv2.getRotationMatrix2D((int(obj_size*deg2px)/2,int(obj_size*deg2px)/2),angle,1)\n",
    "    dst = cv2.warpAffine(temp,M,(int(obj_size*deg2px),int(obj_size*deg2px)))\n",
    "    curve.append(dst)\n",
    "    \n",
    "temp = np.uint8(np.zeros((int(obj_size*deg2px), int(obj_size*deg2px))))\n",
    "temp[int((obj_size-line_height)*deg2px/2):int((obj_size+line_height)*deg2px/2), int((obj_size-line_width)*deg2px/2):int((obj_size+line_width)*deg2px/2)] = 255\n",
    "\n",
    "line = []\n",
    "for angle in [-45, -90, -135, 180]:\n",
    "    M = cv2.getRotationMatrix2D((int(obj_size*deg2px)/2,int(obj_size*deg2px)/2),angle,1)\n",
    "    dst = cv2.warpAffine(temp,M,(int(obj_size*deg2px),int(obj_size*deg2px)))\n",
    "    line.append(dst)"
   ]
  },
  {
   "cell_type": "code",
   "execution_count": 9,
   "metadata": {},
   "outputs": [
    {
     "data": {
      "image/png": "[encoded data removed]",
      "text/plain": [
       "<Figure size 432x288 with 1 Axes>"
      ]
     },
     "metadata": {
      "needs_background": "light"
     },
     "output_type": "display_data"
    },
    {
     "data": {
      "image/png": "[encoded data removed]",
      "text/plain": [
       "<Figure size 432x288 with 1 Axes>"
      ]
     },
     "metadata": {
      "needs_background": "light"
     },
     "output_type": "display_data"
    },
    {
     "data": {
      "image/png": "[encoded data removed]",
      "text/plain": [
       "<Figure size 432x288 with 1 Axes>"
      ]
     },
     "metadata": {
      "needs_background": "light"
     },
     "output_type": "display_data"
    },
    {
     "data": {
      "image/png": "[encoded data removed]",
      "text/plain": [
       "<Figure size 432x288 with 1 Axes>"
      ]
     },
     "metadata": {
      "needs_background": "light"
     },
     "output_type": "display_data"
    },
    {
     "data": {
      "image/png": "[encoded data removed]",
      "text/plain": [
       "<Figure size 432x288 with 1 Axes>"
      ]
     },
     "metadata": {
      "needs_background": "light"
     },
     "output_type": "display_data"
    },
    {
     "data": {
      "image/png": "[encoded data removed]",
      "text/plain": [
       "<Figure size 432x288 with 1 Axes>"
      ]
     },
     "metadata": {
      "needs_background": "light"
     },
     "output_type": "display_data"
    },
    {
     "data": {
      "image/png": "[encoded data removed]",
      "text/plain": [
       "<Figure size 432x288 with 1 Axes>"
      ]
     },
     "metadata": {
      "needs_background": "light"
     },
     "output_type": "display_data"
    },
    {
     "data": {
      "image/png": "[encoded data removed]",
      "text/plain": [
       "<Figure size 432x288 with 1 Axes>"
      ]
     },
     "metadata": {
      "needs_background": "light"
     },
     "output_type": "display_data"
    }
   ],
   "source": [
    "i = 0\n",
    "for img in line+curve:\n",
    "    plt.figure(i)\n",
    "    plt.imshow(img)\n",
    "    i += 1"
   ]
  },
  {
   "cell_type": "code",
   "execution_count": 10,
   "metadata": {},
   "outputs": [],
   "source": [
    "# curve in lines\n",
    "for i in range(len(num_items)):\n",
    "    for n in range(1, num_stimuli_per_case+1):\n",
    "        stim_img, tar_img, gt_img = gen_stimuli(num_items[i], line, curve)\n",
    "            \n",
    "        file_name = str(i*num_stimuli_per_case + n) + \".jpg\"\n",
    "        cv2.imwrite(\"curvature/curve_in_lines/stimuli/\" + file_name, stim_img)\n",
    "        cv2.imwrite(\"curvature/curve_in_lines/target/\" + file_name, tar_img)\n",
    "        cv2.imwrite(\"curvature/curve_in_lines/gt/\" + file_name, gt_img)\n",
    "\n",
    "# line in curves\n",
    "for i in range(len(num_items)):\n",
    "    for n in range(1, num_stimuli_per_case+1):\n",
    "        stim_img, tar_img, gt_img = gen_stimuli(num_items[i], curve, line)\n",
    "            \n",
    "        file_name = str(i*num_stimuli_per_case + n) + \".jpg\"\n",
    "        cv2.imwrite(\"curvature/line_in_curves/stimuli/\" + file_name, stim_img)\n",
    "        cv2.imwrite(\"curvature/line_in_curves/target/\" + file_name, tar_img)\n",
    "        cv2.imwrite(\"curvature/line_in_curves/gt/\" + file_name, gt_img)"
   ]
  },
  {
   "cell_type": "code",
   "execution_count": null,
   "metadata": {},
   "outputs": [],
   "source": []
  }
 ],
 "metadata": {
  "kernelspec": {
   "display_name": "Python 3",
   "language": "python",
   "name": "python3"
  },
  "language_info": {
   "codemirror_mode": {
    "name": "ipython",
    "version": 3
   },
   "file_extension": ".py",
   "mimetype": "text/x-python",
   "name": "python",
   "nbconvert_exporter": "python",
   "pygments_lexer": "ipython3",
   "version": "3.7.6"
  }
 },
 "nbformat": 4,
 "nbformat_minor": 4
}
