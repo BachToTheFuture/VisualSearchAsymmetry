{
 "cells": [
  {
   "cell_type": "code",
   "execution_count": 1,
   "metadata": {},
   "outputs": [],
   "source": [
    "import numpy as np\n",
    "import cv2\n",
    "import matplotlib.pyplot as plt\n",
    "from numpy.random import randint, choice\n",
    "import os"
   ]
  },
  {
   "cell_type": "code",
   "execution_count": 2,
   "metadata": {},
   "outputs": [],
   "source": [
    "def gen_stimuli(num_item, dis_stim, tar_stim):\n",
    "    obj_size = line_height + border\n",
    "    pos_err = int((feature_size-obj_size)*deg2px)\n",
    "    \n",
    "    stim_img = np.uint8(255*np.ones((int(view_area*deg2px), int(view_area*deg2px))))\n",
    "    tar_img = np.uint8(255*np.ones((int(obj_size*deg2px), int(obj_size*deg2px))))\n",
    "    gt_img = np.uint8(0*np.ones((int(view_area*deg2px), int(view_area*deg2px))))\n",
    "    \n",
    "    idxs = choice(grid_x*grid_y, num_item, replace=False)\n",
    "    tar_idx_pos = randint(num_item) \n",
    "\n",
    "    for i in range(num_item):\n",
    "        pos_y = int(idxs[i]/grid_x)*int(feature_size*deg2px) + randint(pos_err)\n",
    "        pos_x = (idxs[i]%grid_y)*int(feature_size*deg2px) + randint(pos_err)\n",
    "        \n",
    "        gt_pos_y = int(idxs[i]/grid_x)*int(feature_size*deg2px)\n",
    "        gt_pos_x = (idxs[i]%grid_y)*int(feature_size*deg2px) \n",
    "        \n",
    "        if idxs[i] == idxs[tar_idx_pos]:\n",
    "            tar_img = tar_stim[randint(len(tar_stim))]\n",
    "            stim_img[pos_y:pos_y+tar_img.shape[0], pos_x:pos_x+tar_img.shape[1]] = tar_img\n",
    "            gt_img[gt_pos_y:gt_pos_y+int(feature_size*deg2px), gt_pos_x:gt_pos_x+int(feature_size*deg2px)] = 255\n",
    "        else:\n",
    "            temp = dis_stim[randint(len(dis_stim))]\n",
    "            stim_img[pos_y:pos_y+temp.shape[0], pos_x:pos_x+temp.shape[1]] = temp\n",
    "                \n",
    "    return stim_img, tar_img, gt_img\n",
    "\n",
    "deg2px = 30\n",
    "\n",
    "view_area = 20.5 #in degress\n",
    "grid_x, grid_y = 3, 3\n",
    "\n",
    "feature_size = view_area/grid_x #in degress\n",
    "\n",
    "line_height = 5.5 #in degress\n",
    "line_width = 5.5 #in degress\n",
    "line_weight = 0.55 #in degrees\n",
    "border = 0.4\n",
    "\n",
    "num_items = [3, 6, 9]\n",
    "\n",
    "num_stimuli_per_case = 36\n",
    "\n",
    "gt_mask = []\n",
    "\n",
    "for i in range(grid_x*grid_y):\n",
    "    pos_y = int(i/grid_x)*int(feature_size*deg2px)\n",
    "    pos_x = (i%grid_y)*int(feature_size*deg2px)\n",
    "    gt_img = np.uint8(np.zeros((int(view_area*deg2px), int(view_area*deg2px))))\n",
    "    gt_img[pos_y:pos_y+int(feature_size*deg2px), pos_x:pos_x+int(feature_size*deg2px)] = 255\n",
    "    \n",
    "    gt_mask.append(gt_img)\n",
    "    \n",
    "gt_mask = np.asarray(gt_mask)\n",
    "np.save('intersection/gt_mask.npy', gt_mask)"
   ]
  },
  {
   "cell_type": "markdown",
   "metadata": {},
   "source": [
    "## Cross and Non-Cross"
   ]
  },
  {
   "cell_type": "code",
   "execution_count": 3,
   "metadata": {},
   "outputs": [],
   "source": [
    "try:\n",
    "    os.makedirs(\"intersection/cross/stimuli/\", exist_ok = True)\n",
    "    os.makedirs(\"intersection/cross/target/\", exist_ok = True)\n",
    "    os.makedirs(\"intersection/cross/gt/\", exist_ok = True)\n",
    "    os.makedirs(\"intersection/non_cross/stimuli/\", exist_ok = True)\n",
    "    os.makedirs(\"intersection/non_cross/target/\", exist_ok = True)\n",
    "    os.makedirs(\"intersection/non_cross/gt/\", exist_ok = True)\n",
    "except:\n",
    "    pass"
   ]
  },
  {
   "cell_type": "code",
   "execution_count": 4,
   "metadata": {},
   "outputs": [],
   "source": [
    "temp = np.uint8(255*np.ones((int((line_height)*deg2px), int((line_width)*deg2px))))\n",
    "temp[:,int((line_width-line_weight)*deg2px/2):int((line_width+line_weight)*deg2px/2)] = 0\n",
    "temp[int((3*line_weight)*deg2px):int((4*line_weight)*deg2px), :] = 0\n",
    "\n",
    "temp2 = np.uint8(255*np.ones((int((line_height+border)*deg2px), int((line_width+border)*deg2px))))\n",
    "temp2[int((border/2)*deg2px):int((border/2)*deg2px)+int((line_height)*deg2px), int((border/2)*deg2px):int((border/2)*deg2px)+int((line_height)*deg2px)] = np.copy(temp)\n",
    "temp = np.copy(temp2)\n",
    "\n",
    "cross = []\n",
    "cross.append(temp)\n",
    "cross.append(cv2.flip(temp, 0))\n",
    "cross.append(temp.T)\n",
    "cross.append(cv2.flip(temp.T, 1))\n",
    "\n",
    "temp = np.uint8(255*np.ones((int((line_height)*deg2px), int((line_width)*deg2px))))\n",
    "temp[:,int((line_width-line_weight)*deg2px/2):int((line_width+line_weight)*deg2px/2)] = 0\n",
    "temp[int((3*line_weight)*deg2px):int((4*line_weight)*deg2px), :int((line_width)*deg2px/2)] = 0\n",
    "temp[int((6*line_weight)*deg2px):int((7*line_weight)*deg2px), int((line_width)*deg2px/2):] = 0\n",
    "temp2 = np.uint8(255*np.ones((int((line_height+border)*deg2px), int((line_width+border)*deg2px))))\n",
    "temp2[int((border/2)*deg2px):int((border/2)*deg2px)+int((line_height)*deg2px), int((border/2)*deg2px):int((border/2)*deg2px)+int((line_height)*deg2px)] = np.copy(temp)\n",
    "temp = np.copy(temp2)\n",
    "\n",
    "non_cross = []\n",
    "non_cross.append(temp)\n",
    "non_cross.append(cv2.flip(temp, 0))\n",
    "non_cross.append(temp.T)\n",
    "non_cross.append(cv2.flip(temp.T, 1))"
   ]
  },
  {
   "cell_type": "code",
   "execution_count": 5,
   "metadata": {},
   "outputs": [
    {
     "data": {
      "image/png": "[encoded data removed]",
      "text/plain": [
       "<Figure size 432x288 with 1 Axes>"
      ]
     },
     "metadata": {
      "needs_background": "light"
     },
     "output_type": "display_data"
    },
    {
     "data": {
      "image/png": "[encoded data removed]",
      "text/plain": [
       "<Figure size 432x288 with 1 Axes>"
      ]
     },
     "metadata": {
      "needs_background": "light"
     },
     "output_type": "display_data"
    },
    {
     "data": {
      "image/png": "[encoded data removed]",
      "text/plain": [
       "<Figure size 432x288 with 1 Axes>"
      ]
     },
     "metadata": {
      "needs_background": "light"
     },
     "output_type": "display_data"
    },
    {
     "data": {
      "image/png": "[encoded data removed]",
      "text/plain": [
       "<Figure size 432x288 with 1 Axes>"
      ]
     },
     "metadata": {
      "needs_background": "light"
     },
     "output_type": "display_data"
    },
    {
     "data": {
      "image/png": "[encoded data removed]",
      "text/plain": [
       "<Figure size 432x288 with 1 Axes>"
      ]
     },
     "metadata": {
      "needs_background": "light"
     },
     "output_type": "display_data"
    },
    {
     "data": {
      "image/png": "[encoded data removed]",
      "text/plain": [
       "<Figure size 432x288 with 1 Axes>"
      ]
     },
     "metadata": {
      "needs_background": "light"
     },
     "output_type": "display_data"
    },
    {
     "data": {
      "image/png": "[encoded data removed]",
      "text/plain": [
       "<Figure size 432x288 with 1 Axes>"
      ]
     },
     "metadata": {
      "needs_background": "light"
     },
     "output_type": "display_data"
    },
    {
     "data": {
      "image/png": "[encoded data removed]",
      "text/plain": [
       "<Figure size 432x288 with 1 Axes>"
      ]
     },
     "metadata": {
      "needs_background": "light"
     },
     "output_type": "display_data"
    }
   ],
   "source": [
    "i = 0\n",
    "for img in cross+non_cross:\n",
    "    plt.figure(i)\n",
    "    plt.imshow(img)\n",
    "    i += 1"
   ]
  },
  {
   "cell_type": "code",
   "execution_count": 6,
   "metadata": {},
   "outputs": [
    {
     "data": {
      "text/plain": [
       "5.53125"
      ]
     },
     "execution_count": 6,
     "metadata": {},
     "output_type": "execute_result"
    }
   ],
   "source": [
    "img.shape[0]/32"
   ]
  },
  {
   "cell_type": "code",
   "execution_count": 7,
   "metadata": {},
   "outputs": [],
   "source": [
    "# cross in non_crosses\n",
    "for i in range(len(num_items)):\n",
    "    for n in range(1, num_stimuli_per_case+1):\n",
    "        stim_img, tar_img, gt_img = gen_stimuli(num_items[i], non_cross, cross)\n",
    "            \n",
    "        file_name = str(i*num_stimuli_per_case + n) + \".jpg\"\n",
    "        cv2.imwrite(\"intersection/cross/stimuli/\" + file_name, stim_img)\n",
    "        cv2.imwrite(\"intersection/cross/target/\" + file_name, tar_img)\n",
    "        cv2.imwrite(\"intersection/cross/gt/\" + file_name, gt_img)\n",
    "\n",
    "# non_cross in crosses\n",
    "for i in range(len(num_items)):\n",
    "    for n in range(1, num_stimuli_per_case+1):\n",
    "        stim_img, tar_img, gt_img = gen_stimuli(num_items[i], cross, non_cross)\n",
    "            \n",
    "        file_name = str(i*num_stimuli_per_case + n) + \".jpg\"\n",
    "        cv2.imwrite(\"intersection/non_cross/stimuli/\" + file_name, stim_img)\n",
    "        cv2.imwrite(\"intersection/non_cross/target/\" + file_name, tar_img)\n",
    "        cv2.imwrite(\"intersection/non_cross/gt/\" + file_name, gt_img)"
   ]
  },
  {
   "cell_type": "markdown",
   "metadata": {},
   "source": [
    "## T and L"
   ]
  },
  {
   "cell_type": "code",
   "execution_count": 8,
   "metadata": {},
   "outputs": [],
   "source": [
    "try:\n",
    "    os.makedirs(\"intersection/Ls/stimuli/\", exist_ok = True)\n",
    "    os.makedirs(\"intersection/Ls/target/\", exist_ok = True)\n",
    "    os.makedirs(\"intersection/Ls/gt/\", exist_ok = True)\n",
    "    os.makedirs(\"intersection/Ts/stimuli/\", exist_ok = True)\n",
    "    os.makedirs(\"intersection/Ts/target/\", exist_ok = True)\n",
    "    os.makedirs(\"intersection/Ts/gt/\", exist_ok = True)\n",
    "except:\n",
    "    pass"
   ]
  },
  {
   "cell_type": "code",
   "execution_count": 9,
   "metadata": {},
   "outputs": [],
   "source": [
    "temp = np.uint8(255*np.ones((int((line_height)*deg2px), int((line_width)*deg2px))))\n",
    "temp[:, :int(line_weight*deg2px)] = 0\n",
    "temp[int((line_height-line_weight)*deg2px):int((line_height)*deg2px), :] = 0\n",
    "temp2 = np.uint8(255*np.ones((int((line_height+border)*deg2px), int((line_width+border)*deg2px))))\n",
    "temp2[int((border/2)*deg2px):int((border/2)*deg2px)+int((line_height)*deg2px), int((border/2)*deg2px):int((border/2)*deg2px)+int((line_height)*deg2px)] = np.copy(temp)\n",
    "temp = np.copy(temp2)\n",
    "\n",
    "Ls = []\n",
    "Ls.append(temp)\n",
    "Ls.append(cv2.flip(temp, 0))\n",
    "Ls.append(temp.T)\n",
    "Ls.append(cv2.flip(temp.T, 1))\n",
    "\n",
    "temp = np.uint8(255*np.ones((int((line_height)*deg2px), int((line_width)*deg2px))))\n",
    "temp[:,int((line_width-line_weight)*deg2px/2):int((line_width+line_weight)*deg2px/2)] = 0\n",
    "temp[:int((line_weight)*deg2px), :] = 0\n",
    "temp2 = np.uint8(255*np.ones((int((line_height+border)*deg2px), int((line_width+border)*deg2px))))\n",
    "temp2[int((border/2)*deg2px):int((border/2)*deg2px)+int((line_height)*deg2px), int((border/2)*deg2px):int((border/2)*deg2px)+int((line_height)*deg2px)] = np.copy(temp)\n",
    "temp = np.copy(temp2)\n",
    "\n",
    "Ts = []\n",
    "Ts.append(temp)\n",
    "Ts.append(cv2.flip(temp, 0))\n",
    "Ts.append(temp.T)\n",
    "Ts.append(cv2.flip(temp.T, 1))"
   ]
  },
  {
   "cell_type": "code",
   "execution_count": 10,
   "metadata": {
    "scrolled": false
   },
   "outputs": [
    {
     "data": {
      "image/png": "[encoded data removed]",
      "text/plain": [
       "<Figure size 432x288 with 1 Axes>"
      ]
     },
     "metadata": {
      "needs_background": "light"
     },
     "output_type": "display_data"
    },
    {
     "data": {
      "image/png": "[encoded data removed]",
      "text/plain": [
       "<Figure size 432x288 with 1 Axes>"
      ]
     },
     "metadata": {
      "needs_background": "light"
     },
     "output_type": "display_data"
    },
    {
     "data": {
      "image/png": "[encoded data removed]",
      "text/plain": [
       "<Figure size 432x288 with 1 Axes>"
      ]
     },
     "metadata": {
      "needs_background": "light"
     },
     "output_type": "display_data"
    },
    {
     "data": {
      "image/png": "[encoded data removed]",
      "text/plain": [
       "<Figure size 432x288 with 1 Axes>"
      ]
     },
     "metadata": {
      "needs_background": "light"
     },
     "output_type": "display_data"
    },
    {
     "data": {
      "image/png": "[encoded data removed]",
      "text/plain": [
       "<Figure size 432x288 with 1 Axes>"
      ]
     },
     "metadata": {
      "needs_background": "light"
     },
     "output_type": "display_data"
    },
    {
     "data": {
      "image/png": "[encoded data removed]",
      "text/plain": [
       "<Figure size 432x288 with 1 Axes>"
      ]
     },
     "metadata": {
      "needs_background": "light"
     },
     "output_type": "display_data"
    },
    {
     "data": {
      "image/png": "[encoded data removed]",
      "text/plain": [
       "<Figure size 432x288 with 1 Axes>"
      ]
     },
     "metadata": {
      "needs_background": "light"
     },
     "output_type": "display_data"
    },
    {
     "data": {
      "image/png": "[encoded data removed]",
      "text/plain": [
       "<Figure size 432x288 with 1 Axes>"
      ]
     },
     "metadata": {
      "needs_background": "light"
     },
     "output_type": "display_data"
    }
   ],
   "source": [
    "i = 0\n",
    "for img in Ls+Ts:\n",
    "    plt.figure(i)\n",
    "    plt.imshow(img)\n",
    "    i += 1"
   ]
  },
  {
   "cell_type": "code",
   "execution_count": 11,
   "metadata": {},
   "outputs": [],
   "source": [
    "# L in Ts\n",
    "for i in range(len(num_items)):\n",
    "    for n in range(1, num_stimuli_per_case+1):\n",
    "        stim_img, tar_img, gt_img = gen_stimuli(num_items[i], Ts, Ls)\n",
    "            \n",
    "        file_name = str(i*num_stimuli_per_case + n) + \".jpg\"\n",
    "        cv2.imwrite(\"intersection/Ls/stimuli/\" + file_name, stim_img)\n",
    "        cv2.imwrite(\"intersection/Ls/target/\" + file_name, tar_img)\n",
    "        cv2.imwrite(\"intersection/Ls/gt/\" + file_name, gt_img)\n",
    "\n",
    "# T in Ls\n",
    "for i in range(len(num_items)):\n",
    "    for n in range(1, num_stimuli_per_case+1):\n",
    "        stim_img, tar_img, gt_img = gen_stimuli(num_items[i], Ls, Ts)\n",
    "            \n",
    "        file_name = str(i*num_stimuli_per_case + n) + \".jpg\"\n",
    "        cv2.imwrite(\"intersection/Ts/stimuli/\" + file_name, stim_img)\n",
    "        cv2.imwrite(\"intersection/Ts/target/\" + file_name, tar_img)\n",
    "        cv2.imwrite(\"intersection/Ts/gt/\" + file_name, gt_img)"
   ]
  },
  {
   "cell_type": "code",
   "execution_count": 22,
   "metadata": {},
   "outputs": [
    {
     "data": {
      "text/plain": [
       "(180, 180)"
      ]
     },
     "execution_count": 22,
     "metadata": {},
     "output_type": "execute_result"
    }
   ],
   "source": [
    "img.shape"
   ]
  },
  {
   "cell_type": "code",
   "execution_count": 71,
   "metadata": {},
   "outputs": [
    {
     "data": {
      "text/plain": [
       "4.96875"
      ]
     },
     "execution_count": 71,
     "metadata": {},
     "output_type": "execute_result"
    }
   ],
   "source": [
    "159/32"
   ]
  },
  {
   "cell_type": "code",
   "execution_count": null,
   "metadata": {},
   "outputs": [],
   "source": []
  }
 ],
 "metadata": {
  "kernelspec": {
   "display_name": "Python 3",
   "language": "python",
   "name": "python3"
  },
  "language_info": {
   "codemirror_mode": {
    "name": "ipython",
    "version": 3
   },
   "file_extension": ".py",
   "mimetype": "text/x-python",
   "name": "python",
   "nbconvert_exporter": "python",
   "pygments_lexer": "ipython3",
   "version": "3.7.6"
  }
 },
 "nbformat": 4,
 "nbformat_minor": 4
}
