{
 "cells": [
  {
   "cell_type": "code",
   "execution_count": 1,
   "id": "varying-parish",
   "metadata": {},
   "outputs": [],
   "source": [
    "import sys\n",
    "import os\n",
    "import numpy as np\n",
    "import shutil\n",
    "import random\n",
    "from scipy import optimize\n",
    "import imageio\n",
    "from skimage.transform import resize\n",
    "from tqdm import tqdm\n",
    "from skimage import io\n",
    "import cv2\n",
    "\n",
    "import matplotlib.pyplot as plt\n",
    "\n",
    "random.seed(0)\n",
    "np.random.seed(0)"
   ]
  },
  {
   "cell_type": "code",
   "execution_count": 2,
   "id": "incredible-hughes",
   "metadata": {},
   "outputs": [],
   "source": [
    "train_dir = \"./dataset/imagenet100/train/\"\n",
    "category = os.listdir(train_dir)"
   ]
  },
  {
   "cell_type": "code",
   "execution_count": null,
   "metadata": {},
   "outputs": [],
   "source": [
    "old_dir = \"./dataset/imagenet100/train/\"\n",
    "new_dir = \"./dataset/imagenet100_lines/train/\"\n",
    "\n",
    "for i in range(len(category)):\n",
    "    src = old_dir+category[i]+\"/\"\n",
    "    dest = new_dir+category[i]+\"/\"\n",
    "    \n",
    "    os.makedirs(dest, exist_ok=True)\n",
    "    \n",
    "    fn_list = os.listdir(src)\n",
    "    for j in tqdm(range(len(fn_list)), desc=str(i)):\n",
    "        fn = fn_list[j]\n",
    "        \n",
    "        src_img_path = src+fn\n",
    "        dest_img_path = dest+fn\n",
    "        \n",
    "        img = cv2.imread(src_img_path, 1)\n",
    "        x, y = img.shape[:2]# from retina.retina import warp_image\n",
    "        \n",
    "        for i in range(45, x-5, 50):\n",
    "            img[i:i+5, :, :] = 0\n",
    "\n",
    "        for i in range(45, y-5, 50):\n",
    "            img[:, i:i+5, :] = 0\n",
    "            \n",
    "        cv2.imwrite(dest_img_path, np.uint8(img))"
   ]
  },
  {
   "cell_type": "code",
   "execution_count": null,
   "metadata": {},
   "outputs": [],
   "source": [
    "old_dir = \"./dataset/imagenet100/val/\"\n",
    "new_dir = \"./dataset/imagenet100_lines/val/\"\n",
    "\n",
    "for i in range(len(category)):\n",
    "    src = old_dir+category[i]+\"/\"\n",
    "    dest = new_dir+category[i]+\"/\"\n",
    "    \n",
    "    os.makedirs(dest, exist_ok=True)\n",
    "    \n",
    "    fn_list = os.listdir(src)\n",
    "    for j in tqdm(range(len(fn_list)), desc=str(i)):\n",
    "        fn = fn_list[j]\n",
    "        \n",
    "        src_img_path = src+fn\n",
    "        dest_img_path = dest+fn\n",
    "        \n",
    "        img = cv2.imread(src_img_path, 1)\n",
    "        x, y = img.shape[:2]\n",
    "        \n",
    "        for i in range(45, x-5, 50):\n",
    "            img[i:i+5, :, :] = 0\n",
    "\n",
    "        for i in range(45, y-5, 50):\n",
    "            img[:, i:i+5, :] = 0\n",
    "            \n",
    "        cv2.imwrite(dest_img_path, np.uint8(img))"
   ]
  },
  {
   "cell_type": "code",
   "execution_count": null,
   "id": "rotary-fundamental",
   "metadata": {},
   "outputs": [],
   "source": []
  }
 ],
 "metadata": {
  "kernelspec": {
   "display_name": "Python 3",
   "language": "python",
   "name": "python3"
  },
  "language_info": {
   "codemirror_mode": {
    "name": "ipython",
    "version": 3
   },
   "file_extension": ".py",
   "mimetype": "text/x-python",
   "name": "python",
   "nbconvert_exporter": "python",
   "pygments_lexer": "ipython3",
   "version": "3.7.6"
  }
 },
 "nbformat": 4,
 "nbformat_minor": 5
}
