{
 "cells": [
  {
   "cell_type": "code",
   "execution_count": 1,
   "id": "corrected-struggle",
   "metadata": {},
   "outputs": [],
   "source": [
    "import os, sys\n",
    "import numpy as np\n",
    "import shutil\n",
    "import random\n",
    "from scipy import optimize\n",
    "from retina.retina import warp_image # https://github.com/dicarlolab/retinawarp\n",
    "import imageio\n",
    "from skimage.transform import resize\n",
    "from tqdm import tqdm\n",
    "from skimage import io\n",
    "import cv2\n",
    "\n",
    "random.seed(0)\n",
    "np.random.seed(0)"
   ]
  },
  {
   "cell_type": "code",
   "execution_count": 2,
   "id": "unique-premiere",
   "metadata": {},
   "outputs": [],
   "source": [
    "train_dir = \"./dataset/imagenet100/train/\"\n",
    "category = os.listdir(train_dir)"
   ]
  },
  {
   "cell_type": "code",
   "execution_count": null,
   "id": "flush-harvard",
   "metadata": {},
   "outputs": [],
   "source": [
    "old_dir = \"./dataset/imagenet100/train/\"\n",
    "new_dir = \"./dataset/imagenet100_fisheye/train/\"\n",
    "\n",
    "for i in range(len(category)):\n",
    "    src = old_dir+category[i]+\"/\"\n",
    "    dest = new_dir+category[i]+\"/\"\n",
    "    \n",
    "    os.makedirs(dest, exist_ok=True)\n",
    "    \n",
    "    fn_list = os.listdir(src)\n",
    "    for j in tqdm(range(len(fn_list)), desc=str(i)):\n",
    "        fn = fn_list[j]\n",
    "        \n",
    "        src_img_path = src+fn\n",
    "        dest_img_path = dest+fn\n",
    "        \n",
    "        img = cv2.imread(src_img_path, 1)\n",
    "        x, y = img.shape[:2]\n",
    "\n",
    "        if x > y:\n",
    "            ret_img = warp_image(img, output_size=x, input_size=x)\n",
    "            df0 = (x-y)//2\n",
    "            df1 = (x-y) - ((x-y)//2)\n",
    "            ret_img = ret_img[:, df0:-df1]\n",
    "        elif y > x:\n",
    "            ret_img = warp_image(img, output_size=y, input_size=y)\n",
    "            df0 = (y-x)//2\n",
    "            df1 = (y-x) - ((y-x)//2)\n",
    "            ret_img = ret_img[df0:-df1, :]\n",
    "        else:\n",
    "            ret_img = warp_image(img, output_size=x, input_size=x)\n",
    "            \n",
    "        cv2.imwrite(dest_img_path, np.uint8(ret_img*255))"
   ]
  },
  {
   "cell_type": "code",
   "execution_count": null,
   "metadata": {},
   "outputs": [],
   "source": [
    "old_dir = \"./dataset/imagenet100/val/\"\n",
    "new_dir = \"./dataset/imagenet100_fisheye/val/\"\n",
    "\n",
    "for i in range(len(category)):\n",
    "    src = old_dir+category[i]+\"/\"\n",
    "    dest = new_dir+category[i]+\"/\"\n",
    "    \n",
    "    os.makedirs(dest, exist_ok=True)\n",
    "    \n",
    "    fn_list = os.listdir(src)\n",
    "    for j in tqdm(range(len(fn_list)), desc=str(i)):\n",
    "        fn = fn_list[j]\n",
    "        \n",
    "        src_img_path = src+fn\n",
    "        dest_img_path = dest+fn\n",
    "        \n",
    "        img = cv2.imread(src_img_path, 1)\n",
    "        x, y = img.shape[:2]\n",
    "\n",
    "        if x > y:\n",
    "            ret_img = warp_image(img, output_size=x, input_size=x)\n",
    "            df0 = (x-y)//2\n",
    "            df1 = (x-y) - ((x-y)//2)\n",
    "            ret_img = ret_img[:, df0:-df1]\n",
    "        elif y > x:\n",
    "            ret_img = warp_image(img, output_size=y, input_size=y)\n",
    "            df0 = (y-x)//2\n",
    "            df1 = (y-x) - ((y-x)//2)\n",
    "            ret_img = ret_img[df0:-df1, :]\n",
    "        else:\n",
    "            ret_img = warp_image(img, output_size=x, input_size=x)\n",
    "            \n",
    "        cv2.imwrite(dest_img_path, np.uint8(ret_img*255))"
   ]
  },
  {
   "cell_type": "code",
   "execution_count": null,
   "id": "twelve-blanket",
   "metadata": {},
   "outputs": [],
   "source": []
  }
 ],
 "metadata": {
  "kernelspec": {
   "display_name": "Python 3",
   "language": "python",
   "name": "python3"
  },
  "language_info": {
   "codemirror_mode": {
    "name": "ipython",
    "version": 3
   },
   "file_extension": ".py",
   "mimetype": "text/x-python",
   "name": "python",
   "nbconvert_exporter": "python",
   "pygments_lexer": "ipython3",
   "version": "3.7.6"
  }
 },
 "nbformat": 4,
 "nbformat_minor": 5
}
