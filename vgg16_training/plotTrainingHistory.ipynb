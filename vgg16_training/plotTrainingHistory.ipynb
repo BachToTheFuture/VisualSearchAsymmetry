{
 "cells": [
  {
   "cell_type": "code",
   "execution_count": null,
   "metadata": {},
   "outputs": [],
   "source": [
    "import numpy as np\n",
    "import matplotlib.pyplot as plt\n",
    "import time"
   ]
  },
  {
   "cell_type": "code",
   "execution_count": null,
   "metadata": {},
   "outputs": [],
   "source": [
    "hist_list = [\"history\" + x + \".csv\" for x in ['_0', \"_1\"]]\n",
    "\n",
    "data = np.genfromtxt(\"saved_model/VGG16_Imagenet_WD_Adam_II/\" + hist_list[0], dtype=\"<U\")\n",
    "lbls = data[:, 0]\n",
    "data = np.float32(data[:, 1:])\n",
    "\n",
    "for tmp in hist_list[1:]:\n",
    "    data_tmp = np.genfromtxt(\"saved_model/VGG16_Imagenet_WD_Adam_II/\" + tmp, dtype=\"<U\")\n",
    "    data_tmp = np.float32(data_tmp[:, 1:])\n",
    "    data_tmp[0] += data[0][-1]+1\n",
    "    data = np.hstack([data, data_tmp])\n",
    "    \n",
    "lbls"
   ]
  },
  {
   "cell_type": "code",
   "execution_count": null,
   "metadata": {},
   "outputs": [],
   "source": [
    "plt.plot(data[0], data[2], label=\"train acc\")\n",
    "plt.plot(np.uint8(data[0]), data[4], label=\"val acc\")\n",
    "plt.xlabel(\"Epochs\")\n",
    "plt.ylabel(\"Top-1 Accuracy\")\n",
    "plt.legend()\n",
    "plt.show()"
   ]
  }
 ],
 "metadata": {
  "kernelspec": {
   "display_name": "Python 3",
   "language": "python",
   "name": "python3"
  },
  "language_info": {
   "codemirror_mode": {
    "name": "ipython",
    "version": 3
   },
   "file_extension": ".py",
   "mimetype": "text/x-python",
   "name": "python",
   "nbconvert_exporter": "python",
   "pygments_lexer": "ipython3",
   "version": "3.7.6"
  }
 },
 "nbformat": 4,
 "nbformat_minor": 5
}
