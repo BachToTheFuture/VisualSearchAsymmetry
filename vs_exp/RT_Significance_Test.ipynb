{
 "cells": [
  {
   "cell_type": "code",
   "execution_count": 1,
   "metadata": {},
   "outputs": [],
   "source": [
    "# Test whether the two task in the given asymmetry experiment have significantly different line fitting"
   ]
  },
  {
   "cell_type": "code",
   "execution_count": 2,
   "metadata": {},
   "outputs": [],
   "source": [
    "from urllib.request import urlopen\n",
    "import numpy as np\n",
    "import sys\n",
    "from rt_plot import gen_RT_data\n",
    "import os\n",
    "from tqdm.notebook import tqdm\n",
    "import pandas as pd\n",
    "\n",
    "import matplotlib.pyplot as plt\n",
    "from statsmodels.formula.api import ols\n",
    "from statsmodels.graphics.api import interaction_plot, abline_plot\n",
    "from statsmodels.stats.anova import anova_lm"
   ]
  },
  {
   "cell_type": "code",
   "execution_count": 3,
   "metadata": {},
   "outputs": [],
   "source": [
    "border = \"\".join(100*[\"-\"]) + \"\\n\"\n",
    "\n",
    "rt_fxn_model = {'slope': 252.359, 'intercept': 376.271}\n",
    "task_ids = [*range(6)]"
   ]
  },
  {
   "cell_type": "code",
   "execution_count": 4,
   "metadata": {},
   "outputs": [
    {
     "name": "stderr",
     "output_type": "stream",
     "text": [
      "/home/shashi/anaconda3/envs/klab_vs/lib/python3.7/site-packages/scipy/stats/_distn_infrastructure.py:903: RuntimeWarning: invalid value encountered in greater\n",
      "  return (a < x) & (x < b)\n",
      "/home/shashi/anaconda3/envs/klab_vs/lib/python3.7/site-packages/scipy/stats/_distn_infrastructure.py:903: RuntimeWarning: invalid value encountered in less\n",
      "  return (a < x) & (x < b)\n",
      "/home/shashi/anaconda3/envs/klab_vs/lib/python3.7/site-packages/scipy/stats/_distn_infrastructure.py:1912: RuntimeWarning: invalid value encountered in less_equal\n",
      "  cond2 = cond0 & (x <= _a)\n"
     ]
    }
   ],
   "source": [
    "testData = []\n",
    "\n",
    "methods = np.array(os.listdir(\"./eccNET/out/\")+[\"pixelMatch\", \"chance\", \"gbvs\"])\n",
    "dirs = ['./eccNET/out/']*(len(methods)-3)+[\"./\"]*3\n",
    "for n in range(len(methods)):\n",
    "    method = methods[n]\n",
    "    all_fxn_data, all_fxn_seq = gen_RT_data(method, dirs[n], rt_fxn_model, task_ids)\n",
    "    \n",
    "    header = [\"Model\"]\n",
    "    modelTestData = [method]\n",
    "    for t in range(len(all_fxn_seq)):\n",
    "        data = []\n",
    "\n",
    "        for i in range(len(all_fxn_seq[t])):\n",
    "            fxn = all_fxn_data[all_fxn_seq[t][i]]\n",
    "            exp_name = fxn.name\n",
    "\n",
    "            rt = fxn.num_fxn*rt_fxn_model['slope'] + rt_fxn_model['intercept']\n",
    "            setsize = fxn.num_item\n",
    "\n",
    "            for j in range(rt.shape[0]):\n",
    "                data.append([rt[j], setsize[j], i])\n",
    "\n",
    "        df = pd.DataFrame(data, columns = ['RT', 'SetSize', 'Task'])\n",
    "\n",
    "        min_lm1 = ols('RT ~ SetSize', data=df).fit() #same slope same intercept\n",
    "        min_lm2 = ols('RT ~ SetSize * Task', data = df).fit() #diff slope diff intercept\n",
    "        table = anova_lm(min_lm1, min_lm2)\n",
    "        \n",
    "        modelTestData.append(table['Pr(>F)'][1])\n",
    "        header.append(exp_name.replace(\",\", \" - \"))\n",
    "        \n",
    "    if n==0:\n",
    "        testData.append(header)\n",
    "        \n",
    "    testData.append(modelTestData)"
   ]
  },
  {
   "cell_type": "code",
   "execution_count": 5,
   "metadata": {},
   "outputs": [],
   "source": [
    "np.savetxt(\"results/significance_test.csv\", testData, delimiter=',', fmt=\"%s\")"
   ]
  },
  {
   "cell_type": "code",
   "execution_count": null,
   "metadata": {},
   "outputs": [],
   "source": []
  }
 ],
 "metadata": {
  "kernelspec": {
   "display_name": "Python 3",
   "language": "python",
   "name": "python3"
  },
  "language_info": {
   "codemirror_mode": {
    "name": "ipython",
    "version": 3
   },
   "file_extension": ".py",
   "mimetype": "text/x-python",
   "name": "python",
   "nbconvert_exporter": "python",
   "pygments_lexer": "ipython3",
   "version": "3.7.6"
  }
 },
 "nbformat": 4,
 "nbformat_minor": 1
}
