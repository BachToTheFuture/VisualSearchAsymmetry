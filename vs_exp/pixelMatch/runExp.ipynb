{
 "cells": [
  {
   "cell_type": "code",
   "execution_count": null,
   "metadata": {},
   "outputs": [],
   "source": [
    "import sys\n",
    "sys.path.insert(0, \"../\")"
   ]
  },
  {
   "cell_type": "code",
   "execution_count": 1,
   "metadata": {},
   "outputs": [],
   "source": [
    "import numpy as np\n",
    "import cv2\n",
    "from tqdm.auto import tqdm\n",
    "from utils import recog, get_act, remove_attn\n",
    "from data_utils import get_data_paths, get_exp_info\n",
    "import matplotlib.pyplot as plt\n",
    "\n",
    "base_data_path = \"../dataset/\""
   ]
  },
  {
   "cell_type": "code",
   "execution_count": null,
   "metadata": {},
   "outputs": [],
   "source": [
    "exps = ['categorization', 'curvature', 'intersection', 'lightning_dir']\n",
    "\n",
    "num_exp = len(exps)\n",
    "for exp_id in range(num_exp):\n",
    "    exp_type = exps[exp_id]\n",
    "    exp_info = get_exp_info(exp_type, base_data_path=base_data_path)\n",
    "    num_task = exp_info['num_task']\n",
    "    NumStimuli = exp_info['NumStimuli']\n",
    "    NumFix = exp_info['NumFix']\n",
    "    exp_name = exp_info['exp_name']\n",
    "    \n",
    "    for task_id in range(num_task):\n",
    "        # Load gt masks -----------------------------------------------------------\n",
    "        gt_mask = np.load(\"../dataset/\" + exps[exp_id] + \"/gt_mask.npy\")\n",
    "        gt_sum = np.sum(gt_mask, axis=0)\n",
    "        # Load gt masks -----------------------------------------------------------\n",
    "\n",
    "        # Run visual serach -------------------------------------------------------\n",
    "        score = np.uint8(np.zeros((NumStimuli, NumFix+1)))\n",
    "        for i in tqdm(range(NumStimuli), desc=exp_name[task_id]):\n",
    "            stim_path, gt_path, tar_path = get_data_paths(exp_type, task_id, i, base_data_path=base_data_path)\n",
    "\n",
    "            gt = cv2.imread(gt_path, 0)\n",
    "            stim_img = cv2.imread(stim_path, 1)\n",
    "            tar_img = cv2.imread(tar_path, 1)\n",
    "\n",
    "            if exp_info['rev_img_flag']==1:\n",
    "                stim_img = 255 - stim_img\n",
    "                tar_img = 255 - tar_img\n",
    "\n",
    "            mask = np.uint8(np.ones(gt.shape))\n",
    "            x = int(gt.shape[0]/2)\n",
    "            y = int(gt.shape[0]/2)\n",
    "\n",
    "            act_map = get_act(stim_img, tar_img, exp_info['bg_value'])\n",
    "\n",
    "            found = recog(x, y, gt)\n",
    "            for j in range(NumFix):\n",
    "                if found == 1:\n",
    "                    score[i-1, j] = 1\n",
    "                    break\n",
    "\n",
    "                out = np.copy(mask*act_map*gt_sum)\n",
    "                (x, y) = np.unravel_index(np.argmax(out), out.shape)\n",
    "                found = recog(x, y, gt)\n",
    "                mask = remove_attn(mask, x, y, gt_mask)\n",
    "\n",
    "        # Run visual serach -------------------------------------------------------\n",
    "        try:\n",
    "            os.makedirs(\"out_data/\")\n",
    "        except:\n",
    "            pass\n",
    "        \n",
    "        file_name = 'out_data/' + exp_type + '_' + exp_name[task_id] + '.csv'\n",
    "        np.savetxt(file_name, score, delimiter=',', fmt=\"%d\")"
   ]
  }
 ],
 "metadata": {
  "kernelspec": {
   "display_name": "Python 3",
   "language": "python",
   "name": "python3"
  },
  "language_info": {
   "codemirror_mode": {
    "name": "ipython",
    "version": 3
   },
   "file_extension": ".py",
   "mimetype": "text/x-python",
   "name": "python",
   "nbconvert_exporter": "python",
   "pygments_lexer": "ipython3",
   "version": "3.7.6"
  }
 },
 "nbformat": 4,
 "nbformat_minor": 4
}
