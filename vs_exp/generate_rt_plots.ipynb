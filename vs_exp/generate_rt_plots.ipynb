{
 "cells": [
  {
   "cell_type": "code",
   "execution_count": 1,
   "metadata": {},
   "outputs": [],
   "source": [
    "import numpy as np\n",
    "from rt_plot import gen_RT_data, gen_RT_plot\n",
    "import os\n",
    "from tqdm.auto import tqdm\n",
    "import matplotlib as mpl\n",
    "import matplotlib.pyplot as plt\n",
    "\n",
    "plt.rcParams.update({'font.size': 11})\n",
    "plt.rcParams.update({'font.family': 'sans-serif'})\n",
    "plt.rcParams.update({'font.sans-serif': 'Arial'})\n",
    "\n",
    "mpl.rcParams['lines.linewidth'] = 1.3\n",
    "mpl.rcParams['axes.linewidth'] = 1.3\n",
    "mpl.rcParams['xtick.major.width'] = 1.3\n",
    "mpl.rcParams['ytick.major.width'] = 1.3"
   ]
  },
  {
   "cell_type": "code",
   "execution_count": 2,
   "metadata": {},
   "outputs": [],
   "source": [
    "rt_fxn_model = {'slope': 252.359, 'intercept': 376.271}"
   ]
  },
  {
   "cell_type": "code",
   "execution_count": 3,
   "metadata": {
    "scrolled": true
   },
   "outputs": [
    {
     "data": {
      "application/vnd.jupyter.widget-view+json": {
       "model_id": "18c4305275ea4674a17ee0ea253f0a20",
       "version_major": 2,
       "version_minor": 0
      },
      "text/plain": [
       "HBox(children=(FloatProgress(value=0.0, description='Generating RT Plots...', max=9.0, style=ProgressStyle(des…"
      ]
     },
     "metadata": {},
     "output_type": "display_data"
    },
    {
     "name": "stdout",
     "output_type": "stream",
     "text": [
      "\n"
     ]
    }
   ],
   "source": [
    "methods = np.array(os.listdir(\"./eccNET/out/\")+[\"pixelMatch\", \"chance\", \"gbvs\"])\n",
    "dirs = ['./eccNET/out/']*(len(methods)-3)+[\"./\"]*3\n",
    "task_ids = [*range(6)]\n",
    "\n",
    "for n in tqdm(range(len(methods)), desc=\"Generating RT Plots...\"):\n",
    "    method = methods[n]\n",
    "    if method[0] != '.':\n",
    "        all_fxn_data, all_fxn_seq = gen_RT_data(method, dirs[n], rt_fxn_model, task_ids)\n",
    "        \n",
    "        for n in range(len(all_fxn_seq)):\n",
    "            gen_RT_plot(all_fxn_data, all_fxn_seq[n], task_ids[n])"
   ]
  },
  {
   "cell_type": "code",
   "execution_count": null,
   "metadata": {},
   "outputs": [],
   "source": []
  }
 ],
 "metadata": {
  "kernelspec": {
   "display_name": "Python 3",
   "language": "python",
   "name": "python3"
  },
  "language_info": {
   "codemirror_mode": {
    "name": "ipython",
    "version": 3
   },
   "file_extension": ".py",
   "mimetype": "text/x-python",
   "name": "python",
   "nbconvert_exporter": "python",
   "pygments_lexer": "ipython3",
   "version": "3.7.6"
  }
 },
 "nbformat": 4,
 "nbformat_minor": 4
}
