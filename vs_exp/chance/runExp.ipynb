{
 "cells": [
  {
   "cell_type": "code",
   "execution_count": 1,
   "metadata": {},
   "outputs": [],
   "source": [
    "import sys\n",
    "sys.path.insert(0, \"../\")"
   ]
  },
  {
   "cell_type": "code",
   "execution_count": 2,
   "metadata": {},
   "outputs": [],
   "source": [
    "import os\n",
    "import numpy as np\n",
    "import cv2\n",
    "from tqdm.auto import tqdm\n",
    "from utils import recog, get_act, remove_attn\n",
    "from data_utils import get_data_paths, get_exp_info\n",
    "import matplotlib.pyplot as plt\n",
    "\n",
    "base_data_path = \"../dataset/\"\n",
    "\n",
    "np.random.seed(1000)"
   ]
  },
  {
   "cell_type": "code",
   "execution_count": 3,
   "metadata": {},
   "outputs": [
    {
     "data": {
      "application/vnd.jupyter.widget-view+json": {
       "model_id": "885b842b7b044dc0b3edb4f91ff5efd2",
       "version_major": 2,
       "version_minor": 0
      },
      "text/plain": [
       "HBox(children=(FloatProgress(value=0.0, description='homo_t0', max=120.0, style=ProgressStyle(description_widt…"
      ]
     },
     "metadata": {},
     "output_type": "display_data"
    },
    {
     "name": "stdout",
     "output_type": "stream",
     "text": [
      "\n"
     ]
    },
    {
     "data": {
      "application/vnd.jupyter.widget-view+json": {
       "model_id": "8e453d3679f0459b84f85cce95106042",
       "version_major": 2,
       "version_minor": 0
      },
      "text/plain": [
       "HBox(children=(FloatProgress(value=0.0, description='homo_t20', max=120.0, style=ProgressStyle(description_wid…"
      ]
     },
     "metadata": {},
     "output_type": "display_data"
    },
    {
     "name": "stdout",
     "output_type": "stream",
     "text": [
      "\n"
     ]
    },
    {
     "data": {
      "application/vnd.jupyter.widget-view+json": {
       "model_id": "ac33a8bec9e34b69a935eb330478d944",
       "version_major": 2,
       "version_minor": 0
      },
      "text/plain": [
       "HBox(children=(FloatProgress(value=0.0, description='hetero_t0', max=120.0, style=ProgressStyle(description_wi…"
      ]
     },
     "metadata": {},
     "output_type": "display_data"
    },
    {
     "name": "stdout",
     "output_type": "stream",
     "text": [
      "\n"
     ]
    },
    {
     "data": {
      "application/vnd.jupyter.widget-view+json": {
       "model_id": "917d829700ee4479bf804555a08f4118",
       "version_major": 2,
       "version_minor": 0
      },
      "text/plain": [
       "HBox(children=(FloatProgress(value=0.0, description='hetero_t20', max=120.0, style=ProgressStyle(description_w…"
      ]
     },
     "metadata": {},
     "output_type": "display_data"
    },
    {
     "name": "stdout",
     "output_type": "stream",
     "text": [
      "\n"
     ]
    },
    {
     "data": {
      "application/vnd.jupyter.widget-view+json": {
       "model_id": "11d154843ce64ad2bc2b26853fae35ac",
       "version_major": 2,
       "version_minor": 0
      },
      "text/plain": [
       "HBox(children=(FloatProgress(value=0.0, description='curve_in_lines', max=90.0, style=ProgressStyle(descriptio…"
      ]
     },
     "metadata": {},
     "output_type": "display_data"
    },
    {
     "name": "stdout",
     "output_type": "stream",
     "text": [
      "\n"
     ]
    },
    {
     "data": {
      "application/vnd.jupyter.widget-view+json": {
       "model_id": "801f658d5c25467bb5d95134a9af8d64",
       "version_major": 2,
       "version_minor": 0
      },
      "text/plain": [
       "HBox(children=(FloatProgress(value=0.0, description='line_in_curves', max=90.0, style=ProgressStyle(descriptio…"
      ]
     },
     "metadata": {},
     "output_type": "display_data"
    },
    {
     "name": "stdout",
     "output_type": "stream",
     "text": [
      "\n"
     ]
    },
    {
     "data": {
      "application/vnd.jupyter.widget-view+json": {
       "model_id": "efe7df9d5bad4be48aaf328be7e78ed7",
       "version_major": 2,
       "version_minor": 0
      },
      "text/plain": [
       "HBox(children=(FloatProgress(value=0.0, description='cross', max=108.0, style=ProgressStyle(description_width=…"
      ]
     },
     "metadata": {},
     "output_type": "display_data"
    },
    {
     "name": "stdout",
     "output_type": "stream",
     "text": [
      "\n"
     ]
    },
    {
     "data": {
      "application/vnd.jupyter.widget-view+json": {
       "model_id": "c59dc87a3885422c997fdbd39aa83ef9",
       "version_major": 2,
       "version_minor": 0
      },
      "text/plain": [
       "HBox(children=(FloatProgress(value=0.0, description='non_cross', max=108.0, style=ProgressStyle(description_wi…"
      ]
     },
     "metadata": {},
     "output_type": "display_data"
    },
    {
     "name": "stdout",
     "output_type": "stream",
     "text": [
      "\n"
     ]
    },
    {
     "data": {
      "application/vnd.jupyter.widget-view+json": {
       "model_id": "6d762634ff504ca482a4c0a5df26855f",
       "version_major": 2,
       "version_minor": 0
      },
      "text/plain": [
       "HBox(children=(FloatProgress(value=0.0, description='Ls', max=108.0, style=ProgressStyle(description_width='in…"
      ]
     },
     "metadata": {},
     "output_type": "display_data"
    },
    {
     "name": "stdout",
     "output_type": "stream",
     "text": [
      "\n"
     ]
    },
    {
     "data": {
      "application/vnd.jupyter.widget-view+json": {
       "model_id": "b56f0ed912fc42b1bebfd71bb3de069d",
       "version_major": 2,
       "version_minor": 0
      },
      "text/plain": [
       "HBox(children=(FloatProgress(value=0.0, description='Ts', max=108.0, style=ProgressStyle(description_width='in…"
      ]
     },
     "metadata": {},
     "output_type": "display_data"
    },
    {
     "name": "stdout",
     "output_type": "stream",
     "text": [
      "\n"
     ]
    },
    {
     "data": {
      "application/vnd.jupyter.widget-view+json": {
       "model_id": "76ed4c99fd9940699949b05e2a91a1fb",
       "version_major": 2,
       "version_minor": 0
      },
      "text/plain": [
       "HBox(children=(FloatProgress(value=0.0, description='left_right', max=90.0, style=ProgressStyle(description_wi…"
      ]
     },
     "metadata": {},
     "output_type": "display_data"
    },
    {
     "name": "stdout",
     "output_type": "stream",
     "text": [
      "\n"
     ]
    },
    {
     "data": {
      "application/vnd.jupyter.widget-view+json": {
       "model_id": "990e03f2026c44a9a534748a5ef463cd",
       "version_major": 2,
       "version_minor": 0
      },
      "text/plain": [
       "HBox(children=(FloatProgress(value=0.0, description='top_down', max=90.0, style=ProgressStyle(description_widt…"
      ]
     },
     "metadata": {},
     "output_type": "display_data"
    },
    {
     "name": "stdout",
     "output_type": "stream",
     "text": [
      "\n"
     ]
    }
   ],
   "source": [
    "exps = ['categorization', 'curvature', 'intersection', 'lightning_dir']\n",
    "\n",
    "num_exp = len(exps)\n",
    "for exp_id in range(num_exp):\n",
    "    exp_type = exps[exp_id]\n",
    "    exp_info = get_exp_info(exp_type, base_data_path=base_data_path)\n",
    "    num_task = exp_info['num_task']\n",
    "    NumStimuli = exp_info['NumStimuli']\n",
    "    NumFix = exp_info['NumFix']\n",
    "    exp_name = exp_info['exp_name']\n",
    "    bg_value = exp_info['bg_value']\n",
    "    \n",
    "    for task_id in range(num_task):\n",
    "        # Load gt masks -----------------------------------------------------------\n",
    "        gt_mask = np.load(\"../dataset/\" + exps[exp_id] + \"/gt_mask.npy\")\n",
    "        gt_sum = np.sum(gt_mask, axis=0)\n",
    "        # Load gt masks -----------------------------------------------------------\n",
    "\n",
    "        # Run visual serach -------------------------------------------------------\n",
    "        score = np.uint8(np.zeros((NumStimuli, NumFix+1)))\n",
    "        for i in tqdm(range(NumStimuli), desc=exp_name[task_id]):\n",
    "            stim_path, gt_path, tar_path = get_data_paths(exp_type, task_id, i, base_data_path=base_data_path)\n",
    "\n",
    "            gt = cv2.imread(gt_path, 0)\n",
    "            stim_img = cv2.imread(stim_path, 1)\n",
    "            tar_img = cv2.imread(tar_path, 1)\n",
    "\n",
    "            if exp_info['rev_img_flag']==1:\n",
    "                stim_img = 255 - stim_img\n",
    "                tar_img = 255 - tar_img\n",
    "\n",
    "            mask = np.uint8(np.ones(gt.shape))\n",
    "            x = int(gt.shape[0]/2)\n",
    "            y = int(gt.shape[0]/2)\n",
    "\n",
    "            found = recog(x, y, gt)\n",
    "            for j in range(NumFix):\n",
    "                if found == 1:\n",
    "                    score[i-1, j] = 1\n",
    "                    break\n",
    "\n",
    "                out = np.copy(mask*gt_sum)\n",
    "                (x, y) = np.random.choice(out.shape[0]), np.random.choice(out.shape[1])\n",
    "                while out[x, y] == 0 and (stim_img[x-5:x+5, y-5:y+5] == bg_value).all():\n",
    "                    (x, y) = np.random.choice(out.shape[0]), np.random.choice(out.shape[1])\n",
    "                    \n",
    "                    \n",
    "                found = recog(x, y, gt)\n",
    "                mask = remove_attn(mask, x, y, gt_mask)\n",
    "\n",
    "        # Run visual serach -------------------------------------------------------\n",
    "        try:\n",
    "            os.makedirs(\"out_data/\")\n",
    "        except:\n",
    "            pass\n",
    "        \n",
    "        file_name = 'out_data/' + exp_type + '_' + exp_name[task_id] + '.csv'\n",
    "        np.savetxt(file_name, score, delimiter=',', fmt=\"%d\")"
   ]
  },
  {
   "cell_type": "code",
   "execution_count": null,
   "metadata": {},
   "outputs": [],
   "source": []
  }
 ],
 "metadata": {
  "kernelspec": {
   "display_name": "Python 3",
   "language": "python",
   "name": "python3"
  },
  "language_info": {
   "codemirror_mode": {
    "name": "ipython",
    "version": 3
   },
   "file_extension": ".py",
   "mimetype": "text/x-python",
   "name": "python",
   "nbconvert_exporter": "python",
   "pygments_lexer": "ipython3",
   "version": "3.7.6"
  }
 },
 "nbformat": 4,
 "nbformat_minor": 4
}
