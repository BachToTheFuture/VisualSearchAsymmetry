{
 "cells": [
  {
   "cell_type": "code",
   "execution_count": 1,
   "metadata": {},
   "outputs": [],
   "source": [
    "import numpy as np\n",
    "from rt_plot import gen_RT_data\n",
    "import os\n",
    "from tqdm.notebook import tqdm\n",
    "import matplotlib.pyplot as plt\n",
    "import copy\n",
    "from scipy import stats\n",
    "import matplotlib as mpl\n",
    "\n",
    "from eval_asym_metric import calcAsymScore, plotAsymScore"
   ]
  },
  {
   "cell_type": "code",
   "execution_count": 2,
   "metadata": {},
   "outputs": [],
   "source": [
    "colors = ['#636EFA', '#EF553B', '#00CC96', '#AB63FA', '#FFA15A', '#19D3F3', '#FF6692', '#B6E880', '#FF97FF', '#FECB52']\n",
    "blk_col = '#000000'\n",
    "\n",
    "mpl.rc('axes', edgecolor=blk_col, labelcolor=blk_col)\n",
    "mpl.rc('xtick', color=blk_col)\n",
    "mpl.rc('ytick', color=blk_col)\n",
    "mpl.rc('text', color=blk_col)\n",
    "\n",
    "plt.rcParams.update({'font.size': 11})\n",
    "mpl.rcParams['pdf.fonttype'] = 42\n",
    "mpl.rcParams['ps.fonttype'] = 42\n",
    "plt.rcParams.update({'font.family': 'sans-serif'})\n",
    "plt.rcParams.update({'font.sans-serif': 'Arial'})\n",
    "mpl.rcParams['lines.linewidth'] = 1.3\n",
    "mpl.rcParams['axes.linewidth'] = 1.3\n",
    "mpl.rcParams['xtick.major.width'] = 1.3\n",
    "mpl.rcParams['ytick.major.width'] = 1.3"
   ]
  },
  {
   "cell_type": "code",
   "execution_count": 3,
   "metadata": {},
   "outputs": [],
   "source": [
    "rt_fxn_model = {'slope': 252.359, 'intercept': 376.271}"
   ]
  },
  {
   "cell_type": "code",
   "execution_count": 4,
   "metadata": {},
   "outputs": [
    {
     "data": {
      "application/vnd.jupyter.widget-view+json": {
       "model_id": "0f0ea8b791b74e78ae58cbefdbd814ac",
       "version_major": 2,
       "version_minor": 0
      },
      "text/plain": [
       "Generating Asymmetry Index Scatter Plots...:   0%|          | 0/9 [00:00<?, ?it/s]"
      ]
     },
     "metadata": {},
     "output_type": "display_data"
    },
    {
     "name": "stdout",
     "output_type": "stream",
     "text": [
      "eccNET: 0.513\n",
      "eccNET_Rot90: -0.405\n",
      "IVSN: 0.316\n",
      "eccNET_noecc: 0.052\n",
      "eccNET_0_0_1: 0.084\n",
      "eccNET_MNIST: 0.185\n",
      "pixelMatch: -0.178\n",
      "chance: -0.003\n",
      "gbvs: -0.018\n",
      "Humans: 0.564\n",
      "-----------------------------------------\n",
      "\n"
     ]
    }
   ],
   "source": [
    "methods = np.array(os.listdir(\"./eccNET/out/\")+[\"pixelMatch\", \"chance\", \"gbvs\"])\n",
    "dirs = ['./eccNET/out/']*(len(methods)-3)+[\"./\"]*3\n",
    "\n",
    "task_ids = [*range(6)]\n",
    "\n",
    "score_overall = []\n",
    "for n in tqdm(range(len(methods)), desc=\"Generating Asymmetry Index Scatter Plots...\"):\n",
    "    method = methods[n]\n",
    "    if method[0] != '.':\n",
    "        all_fxn_data, all_fxn_seq = gen_RT_data(method, dirs[n], rt_fxn_model, task_ids)\n",
    "        score = calcAsymScore(all_fxn_data, all_fxn_seq)[0]\n",
    "        print(method+\":\", np.round(np.mean(score), 3))\n",
    "        score_overall.append([method, np.round(np.mean(score), 3)])\n",
    "        plotAsymScore(all_fxn_data, all_fxn_seq)\n",
    "        \n",
    "score = calcAsymScore(all_fxn_data, all_fxn_seq, True)[0]\n",
    "print(\"Humans\"+\":\", np.round(np.mean(score), 3))\n",
    "score_overall.append([\"Humans\", np.round(np.mean(score), 3)])\n",
    "print(\"-----------------------------------------\\n\")"
   ]
  },
  {
   "cell_type": "code",
   "execution_count": 5,
   "metadata": {},
   "outputs": [
    {
     "name": "stdout",
     "output_type": "stream",
     "text": [
      "[['Humans' '0.564']\n",
      " ['eccNET' '0.513']\n",
      " ['IVSN' '0.316']\n",
      " ['eccNET_MNIST' '0.185']\n",
      " ['eccNET_0_0_1' '0.084']\n",
      " ['eccNET_noecc' '0.052']\n",
      " ['chance' '-0.003']\n",
      " ['gbvs' '-0.018']\n",
      " ['pixelMatch' '-0.178']\n",
      " ['eccNET_Rot90' '-0.405']]\n"
     ]
    },
    {
     "data": {
      "image/png": "[encoded data removed]",
      "text/plain": [
       "<Figure size 255x204 with 1 Axes>"
      ]
     },
     "metadata": {
      "needs_background": "light"
     },
     "output_type": "display_data"
    }
   ],
   "source": [
    "model_scores = np.array(score_overall)\n",
    "score_idx = np.flip(np.argsort(np.array(model_scores[:, 1], dtype=np.float32)))\n",
    "model_scores = model_scores[score_idx]\n",
    "print(model_scores)\n",
    "\n",
    "plt.figure(figsize=(4.25/1.2, 4.25/1.5))\n",
    "ax = plt.subplot(111)\n",
    "\n",
    "N = model_scores.shape[0]\n",
    "idx = np.arange(0, 10*N, 10)\n",
    "\n",
    "ax.bar(idx, (np.array(model_scores[:, 1], dtype=np.float32)), 8, color=[\"#609486\", \"#00CC96\"]+(N-2)*[\"#BDBDBD\"], edgecolor=blk_col)\n",
    "plt.ylabel(\"Asymmetry Index\")\n",
    "plt.xticks(idx, model_scores[:, 0], rotation=45, position=(0.0, 0.01), va=\"top\", ha=\"right\", color=blk_col)\n",
    "plt.yticks(np.arange(-0.6, 0.65, 0.2))\n",
    "\n",
    "# Hide the right and top spines\n",
    "ax.spines['right'].set_visible(False)\n",
    "ax.spines['top'].set_visible(False)\n",
    "\n",
    "# Only show ticks on the left and bottom spines\n",
    "ax.yaxis.set_ticks_position('left')\n",
    "ax.xaxis.set_ticks_position('bottom')\n",
    "\n",
    "plt.savefig(\"results/asymIndexBarPlot.pdf\", dpi=200, bbox_inches=\"tight\")\n",
    "# plt.close()"
   ]
  },
  {
   "cell_type": "code",
   "execution_count": null,
   "metadata": {},
   "outputs": [],
   "source": []
  }
 ],
 "metadata": {
  "kernelspec": {
   "display_name": "Python 3",
   "language": "python",
   "name": "python3"
  },
  "language_info": {
   "codemirror_mode": {
    "name": "ipython",
    "version": 3
   },
   "file_extension": ".py",
   "mimetype": "text/x-python",
   "name": "python",
   "nbconvert_exporter": "python",
   "pygments_lexer": "ipython3",
   "version": "3.7.6"
  }
 },
 "nbformat": 4,
 "nbformat_minor": 4
}
