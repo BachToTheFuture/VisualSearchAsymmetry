{
 "cells": [
  {
   "cell_type": "code",
   "execution_count": 1,
   "metadata": {},
   "outputs": [],
   "source": [
    "import sys\n",
    "sys.path.insert(0, \"../../\")\n",
    "\n",
    "import sys\n",
    "sys.path.insert(0, \"../\")"
   ]
  },
  {
   "cell_type": "code",
   "execution_count": 2,
   "metadata": {},
   "outputs": [],
   "source": [
    "import numpy as np\n",
    "import cv2\n",
    "from vs_model import VisualSearchModel as VisualSearchModel\n",
    "from tqdm.auto import tqdm\n",
    "import matplotlib.pyplot as plt\n",
    "from data_utils import get_data_paths, get_exp_info\n",
    "import os\n",
    "from tensorflow.keras.utils import plot_model\n",
    "import tensorflow as tf\n",
    "\n",
    "base_data_path = \"../dataset/\""
   ]
  },
  {
   "cell_type": "code",
   "execution_count": null,
   "metadata": {},
   "outputs": [],
   "source": [
    "physical_devices = tf.config.list_physical_devices('GPU')\n",
    "\n",
    "for dev in physical_devices:\n",
    "    tf.config.experimental.set_memory_growth(dev, True)"
   ]
  },
  {
   "cell_type": "code",
   "execution_count": 3,
   "metadata": {},
   "outputs": [],
   "source": [
    "# eccNET parameters\n",
    "\n",
    "eccParam = {}\n",
    "eccParam['rf_min'] = [2]*5\n",
    "eccParam['stride'] = [2]*5\n",
    "eccParam['ecc_slope'] = [0, 0, 3.5*0.02, 8*0.02, 16*0.02]\n",
    "eccParam['deg2px'] = [round(30.0), round(30.0/2), round(30.0/4), round(30.0/8), round(30.0/16)]\n",
    "eccParam['fovea_size'] = 4\n",
    "eccParam['rf_quant'] = 1\n",
    "eccParam['pool_type'] = 'avg'"
   ]
  },
  {
   "cell_type": "code",
   "execution_count": 5,
   "metadata": {},
   "outputs": [],
   "source": [
    "ecc_models = []\n",
    "\n",
    "vgg_model_path = \"../../pretrained_model/vgg16_imagenet_filters.h5\"\n",
    "\n",
    "# eccNET\n",
    "for out_layer in [[1, 1, 1], [0, 0, 1]]:\n",
    "    model_desc = {'eccParam': eccParam,\n",
    "                  'ecc_depth': 5,\n",
    "                  'out_layer': out_layer,\n",
    "                  'comp_layer': 'diff',\n",
    "                  'vgg_model_path': vgg_model_path,\n",
    "                  'model_subname': \"\"}\n",
    "    \n",
    "    ecc_models.append(model_desc)\n",
    "    \n",
    "# VGG16\n",
    "for out_layer in [[1, 1, 1], [0, 0, 1]]:\n",
    "    model_desc = {'eccParam': eccParam,\n",
    "                  'ecc_depth': 0,\n",
    "                  'out_layer': out_layer,\n",
    "                  'comp_layer': 'diff',\n",
    "                  'vgg_model_path': vgg_model_path,\n",
    "                  'model_subname': \"\"}\n",
    "    \n",
    "    ecc_models.append(model_desc)\n",
    "\n",
    "# eccNET_Rot90\n",
    "vgg_model_path = \"../../pretrained_model/vgg16_90_imagenet_filters.h5\"\n",
    "for out_layer in [[1, 1, 1]]:\n",
    "    model_desc = {'eccParam': eccParam,\n",
    "                  'ecc_depth': 5,\n",
    "                  'out_layer': out_layer,\n",
    "                  'comp_layer': 'diff',\n",
    "                  'vgg_model_path': vgg_model_path,\n",
    "                  'model_subname': \"_Rot90\"}\n",
    "    \n",
    "    ecc_models.append(model_desc)\n",
    "    \n",
    "# eccNET_MNIST\n",
    "vgg_model_path = \"../../pretrained_model/vgg16_mnist_filters.h5\"\n",
    "for out_layer in [[1, 1, 1]]:\n",
    "    model_desc = {'eccParam': eccParam,\n",
    "                  'ecc_depth': 5,\n",
    "                  'out_layer': out_layer,\n",
    "                  'comp_layer': 'diff',\n",
    "                  'vgg_model_path': vgg_model_path,\n",
    "                  'model_subname': \"_MNIST\"}\n",
    "    \n",
    "    ecc_models.append(model_desc)"
   ]
  },
  {
   "cell_type": "code",
   "execution_count": null,
   "metadata": {
    "scrolled": true
   },
   "outputs": [],
   "source": [
    "exps = ['categorization', 'curvature', 'intersection', 'lightning_dir']\n",
    "\n",
    "pbar = tqdm(total=len(ecc_models)*12)\n",
    "for model_desc in ecc_models:\n",
    "    vsm = VisualSearchModel(model_desc)\n",
    "    print(vsm.model_name)\n",
    "    \n",
    "    save_path = \"out/\" + vsm.model_name\n",
    "    try:\n",
    "        os.makedirs(save_path + \"/out_data/\")\n",
    "        os.makedirs(save_path + \"/fix/\")\n",
    "    except:\n",
    "        pass\n",
    "    \n",
    "    for exp_type in exps:\n",
    "        exp_info = get_exp_info(exp_type, base_data_path=base_data_path)\n",
    "        vsm.load_exp_info(exp_info, corner_bias=16*4*1)\n",
    "\n",
    "        num_task = exp_info['num_task']\n",
    "        NumStimuli = exp_info['NumStimuli']\n",
    "        NumFix = exp_info['NumFix']\n",
    "        exp_name = exp_info['exp_name']\n",
    "\n",
    "        for task_id in range(num_task):\n",
    "            data = np.zeros((NumStimuli, NumFix, 2))\n",
    "            CP = np.zeros((NumStimuli, NumFix), dtype=int)\n",
    "\n",
    "            for i in tqdm(range(NumStimuli), desc=exp_name[task_id]):                            \n",
    "                stim_path, gt_path, tar_path = get_data_paths(exp_type, task_id, i, base_data_path=base_data_path)\n",
    "                saccade = vsm.start_search(stim_path, tar_path, gt_path)\n",
    "\n",
    "                j = saccade.shape[0]\n",
    "                if j < NumFix+1:\n",
    "                    CP[i, j-1] = 1\n",
    "                data[i, :min(NumFix, j), 0] = saccade[:, 0].reshape((-1,))[:min(NumFix, j)]\n",
    "                data[i, :min(NumFix, j), 1] = saccade[:, 1].reshape((-1,))[:min(NumFix, j)]\n",
    "\n",
    "            file_name = save_path + '/out_data/' + exp_type + '_' + exp_name[task_id] + '.csv'\n",
    "            np.savetxt(file_name, CP, delimiter=',', fmt=\"%d\")\n",
    "            file_name = save_path + '/fix/' + exp_type + '_' + exp_name[task_id] + '.npy'\n",
    "            np.save(file_name, data)\n",
    "\n",
    "            pbar.update(1)\n",
    "\n",
    "pbar.close()"
   ]
  },
  {
   "cell_type": "code",
   "execution_count": null,
   "metadata": {},
   "outputs": [],
   "source": []
  }
 ],
 "metadata": {
  "kernelspec": {
   "display_name": "Python 3",
   "language": "python",
   "name": "python3"
  },
  "language_info": {
   "codemirror_mode": {
    "name": "ipython",
    "version": 3
   },
   "file_extension": ".py",
   "mimetype": "text/x-python",
   "name": "python",
   "nbconvert_exporter": "python",
   "pygments_lexer": "ipython3",
   "version": "3.7.6"
  }
 },
 "nbformat": 4,
 "nbformat_minor": 4
}
